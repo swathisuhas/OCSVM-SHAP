{
 "cells": [
  {
   "cell_type": "markdown",
   "metadata": {},
   "source": [
    "## Experiment 2.1\n",
    "Consider the Iris flower dataset. It has 4 features - sepal length in cm, sepal width in cm, petal length in cm, petal width in cm.\n",
    "\n",
    "We will also add 2 other features called artificial_feature_1 and arificial_feature_2 with custom values. \n",
    "\n",
    "For 5% of the data samples, we give an extremely large value of artificial_feature_1 and for another 5% of the data samples, an extremely large value of artificial_feature_2. Rest of the samples have value 0 for these features. \n",
    "\n",
    "We will define the process of explaning an outlier as the process of identifying the right feature(s) that makes the data sample an outlier.\n",
    "\n",
    "Given this scenario, we expect artificial_feature_1 to be the explanation when a data sample from the first 5% of data is chosen. Simillarly, artificial_feature_1 as the explanation when any data sample from the second 5% data is chosen. "
   ]
  },
  {
   "cell_type": "code",
   "execution_count": 25,
   "metadata": {},
   "outputs": [],
   "source": [
    "from src.ocsvm.OneClassSVMClassifier import OneClassSVMClassifier\n",
    "import numpy as np\n",
    "import matplotlib.pyplot as plt\n",
    "import torch\n",
    "import pandas as pd\n",
    "from sklearn import datasets\n",
    "import random"
   ]
  },
  {
   "cell_type": "code",
   "execution_count": 26,
   "metadata": {},
   "outputs": [],
   "source": [
    "# Load the Iris dataset\n",
    "iris = datasets.load_iris()\n",
    "df = pd.DataFrame(data=iris.data, columns=iris.feature_names)\n",
    "\n",
    "# Initialize the new features\n",
    "df['artificial_feature_1'] = 0\n",
    "df['artificial_feature_2'] = 0"
   ]
  },
  {
   "cell_type": "code",
   "execution_count": 27,
   "metadata": {},
   "outputs": [
    {
     "data": {
      "text/plain": [
       "7"
      ]
     },
     "execution_count": 27,
     "metadata": {},
     "output_type": "execute_result"
    }
   ],
   "source": [
    "# Set random seed for reproducibility\n",
    "np.random.seed(1)\n",
    "\n",
    "# Calculate the number of samples\n",
    "num_samples = df.shape[0]\n",
    "num_samples_to_modify = int(num_samples * 0.05)\n",
    "num_samples_to_modify"
   ]
  },
  {
   "cell_type": "code",
   "execution_count": 28,
   "metadata": {},
   "outputs": [
    {
     "data": {
      "text/plain": [
       "['sepal length (cm)',\n",
       " 'sepal width (cm)',\n",
       " 'petal length (cm)',\n",
       " 'petal width (cm)',\n",
       " 'artificial_feature_1',\n",
       " 'artificial_feature_2']"
      ]
     },
     "execution_count": 28,
     "metadata": {},
     "output_type": "execute_result"
    }
   ],
   "source": [
    "feature_names = df.columns.tolist()\n",
    "feature_names"
   ]
  },
  {
   "cell_type": "code",
   "execution_count": 29,
   "metadata": {},
   "outputs": [],
   "source": [
    "# Randomly select 5% of the indices for artificial_feature_1\n",
    "indices_feature_1 = np.random.choice(df.index, size=num_samples_to_modify, replace=False)\n",
    "\n",
    "# Assign a large value to artificial_feature_1 for these indices\n",
    "df.loc[indices_feature_1, 'artificial_feature_1'] = np.random.randint(10000, 50001, size=len(indices_feature_1))"
   ]
  },
  {
   "cell_type": "code",
   "execution_count": 30,
   "metadata": {},
   "outputs": [],
   "source": [
    "# Randomly select 5% of the indices for artificial_feature_2, ensuring no overlap\n",
    "remaining_indices = np.setdiff1d(df.index, indices_feature_1)\n",
    "indices_feature_2 = np.random.choice(remaining_indices, size=num_samples_to_modify, replace=False)\n",
    "\n",
    "# Assign a large value to artificial_feature_2 for these indices\n",
    "df.loc[indices_feature_2, 'artificial_feature_2'] = np.random.randint(10000, 50001, size=len(indices_feature_2))"
   ]
  },
  {
   "cell_type": "code",
   "execution_count": 31,
   "metadata": {},
   "outputs": [
    {
     "data": {
      "text/html": [
       "<div>\n",
       "<style scoped>\n",
       "    .dataframe tbody tr th:only-of-type {\n",
       "        vertical-align: middle;\n",
       "    }\n",
       "\n",
       "    .dataframe tbody tr th {\n",
       "        vertical-align: top;\n",
       "    }\n",
       "\n",
       "    .dataframe thead th {\n",
       "        text-align: right;\n",
       "    }\n",
       "</style>\n",
       "<table border=\"1\" class=\"dataframe\">\n",
       "  <thead>\n",
       "    <tr style=\"text-align: right;\">\n",
       "      <th></th>\n",
       "      <th>sepal length (cm)</th>\n",
       "      <th>sepal width (cm)</th>\n",
       "      <th>petal length (cm)</th>\n",
       "      <th>petal width (cm)</th>\n",
       "      <th>artificial_feature_1</th>\n",
       "      <th>artificial_feature_2</th>\n",
       "    </tr>\n",
       "  </thead>\n",
       "  <tbody>\n",
       "    <tr>\n",
       "      <th>0</th>\n",
       "      <td>5.1</td>\n",
       "      <td>3.5</td>\n",
       "      <td>1.4</td>\n",
       "      <td>0.2</td>\n",
       "      <td>0</td>\n",
       "      <td>0</td>\n",
       "    </tr>\n",
       "    <tr>\n",
       "      <th>1</th>\n",
       "      <td>4.9</td>\n",
       "      <td>3.0</td>\n",
       "      <td>1.4</td>\n",
       "      <td>0.2</td>\n",
       "      <td>0</td>\n",
       "      <td>20657</td>\n",
       "    </tr>\n",
       "    <tr>\n",
       "      <th>2</th>\n",
       "      <td>4.7</td>\n",
       "      <td>3.2</td>\n",
       "      <td>1.3</td>\n",
       "      <td>0.2</td>\n",
       "      <td>0</td>\n",
       "      <td>0</td>\n",
       "    </tr>\n",
       "    <tr>\n",
       "      <th>3</th>\n",
       "      <td>4.6</td>\n",
       "      <td>3.1</td>\n",
       "      <td>1.5</td>\n",
       "      <td>0.2</td>\n",
       "      <td>0</td>\n",
       "      <td>0</td>\n",
       "    </tr>\n",
       "    <tr>\n",
       "      <th>4</th>\n",
       "      <td>5.0</td>\n",
       "      <td>3.6</td>\n",
       "      <td>1.4</td>\n",
       "      <td>0.2</td>\n",
       "      <td>0</td>\n",
       "      <td>0</td>\n",
       "    </tr>\n",
       "    <tr>\n",
       "      <th>...</th>\n",
       "      <td>...</td>\n",
       "      <td>...</td>\n",
       "      <td>...</td>\n",
       "      <td>...</td>\n",
       "      <td>...</td>\n",
       "      <td>...</td>\n",
       "    </tr>\n",
       "    <tr>\n",
       "      <th>145</th>\n",
       "      <td>6.7</td>\n",
       "      <td>3.0</td>\n",
       "      <td>5.2</td>\n",
       "      <td>2.3</td>\n",
       "      <td>0</td>\n",
       "      <td>0</td>\n",
       "    </tr>\n",
       "    <tr>\n",
       "      <th>146</th>\n",
       "      <td>6.3</td>\n",
       "      <td>2.5</td>\n",
       "      <td>5.0</td>\n",
       "      <td>1.9</td>\n",
       "      <td>0</td>\n",
       "      <td>0</td>\n",
       "    </tr>\n",
       "    <tr>\n",
       "      <th>147</th>\n",
       "      <td>6.5</td>\n",
       "      <td>3.0</td>\n",
       "      <td>5.2</td>\n",
       "      <td>2.0</td>\n",
       "      <td>0</td>\n",
       "      <td>0</td>\n",
       "    </tr>\n",
       "    <tr>\n",
       "      <th>148</th>\n",
       "      <td>6.2</td>\n",
       "      <td>3.4</td>\n",
       "      <td>5.4</td>\n",
       "      <td>2.3</td>\n",
       "      <td>0</td>\n",
       "      <td>0</td>\n",
       "    </tr>\n",
       "    <tr>\n",
       "      <th>149</th>\n",
       "      <td>5.9</td>\n",
       "      <td>3.0</td>\n",
       "      <td>5.1</td>\n",
       "      <td>1.8</td>\n",
       "      <td>0</td>\n",
       "      <td>0</td>\n",
       "    </tr>\n",
       "  </tbody>\n",
       "</table>\n",
       "<p>150 rows × 6 columns</p>\n",
       "</div>"
      ],
      "text/plain": [
       "     sepal length (cm)  sepal width (cm)  petal length (cm)  petal width (cm)  \\\n",
       "0                  5.1               3.5                1.4               0.2   \n",
       "1                  4.9               3.0                1.4               0.2   \n",
       "2                  4.7               3.2                1.3               0.2   \n",
       "3                  4.6               3.1                1.5               0.2   \n",
       "4                  5.0               3.6                1.4               0.2   \n",
       "..                 ...               ...                ...               ...   \n",
       "145                6.7               3.0                5.2               2.3   \n",
       "146                6.3               2.5                5.0               1.9   \n",
       "147                6.5               3.0                5.2               2.0   \n",
       "148                6.2               3.4                5.4               2.3   \n",
       "149                5.9               3.0                5.1               1.8   \n",
       "\n",
       "     artificial_feature_1  artificial_feature_2  \n",
       "0                       0                     0  \n",
       "1                       0                 20657  \n",
       "2                       0                     0  \n",
       "3                       0                     0  \n",
       "4                       0                     0  \n",
       "..                    ...                   ...  \n",
       "145                     0                     0  \n",
       "146                     0                     0  \n",
       "147                     0                     0  \n",
       "148                     0                     0  \n",
       "149                     0                     0  \n",
       "\n",
       "[150 rows x 6 columns]"
      ]
     },
     "execution_count": 31,
     "metadata": {},
     "output_type": "execute_result"
    }
   ],
   "source": [
    "df"
   ]
  },
  {
   "cell_type": "code",
   "execution_count": 32,
   "metadata": {},
   "outputs": [
    {
     "data": {
      "text/plain": [
       "7"
      ]
     },
     "execution_count": 32,
     "metadata": {},
     "output_type": "execute_result"
    }
   ],
   "source": [
    "non_zero_count_feature_1 = (df['artificial_feature_1'] != 0).sum()\n",
    "non_zero_count_feature_1"
   ]
  },
  {
   "cell_type": "code",
   "execution_count": 33,
   "metadata": {},
   "outputs": [
    {
     "data": {
      "text/plain": [
       "7"
      ]
     },
     "execution_count": 33,
     "metadata": {},
     "output_type": "execute_result"
    }
   ],
   "source": [
    "non_zero_count_feature_2 = (df['artificial_feature_2'] != 0).sum()\n",
    "non_zero_count_feature_2"
   ]
  },
  {
   "cell_type": "code",
   "execution_count": 34,
   "metadata": {},
   "outputs": [],
   "source": [
    "x_data = torch.tensor(df.values)"
   ]
  },
  {
   "cell_type": "code",
   "execution_count": 35,
   "metadata": {},
   "outputs": [
    {
     "data": {
      "text/plain": [
       "torch.Size([150, 6])"
      ]
     },
     "execution_count": 35,
     "metadata": {},
     "output_type": "execute_result"
    }
   ],
   "source": [
    "x_data.shape"
   ]
  },
  {
   "cell_type": "code",
   "execution_count": 36,
   "metadata": {},
   "outputs": [],
   "source": [
    "# Create a OCSVM Classifier Class\n",
    "classifier = OneClassSVMClassifier(x_data, nu=0.1, num_inducing_points=x_data.shape[0])"
   ]
  },
  {
   "cell_type": "code",
   "execution_count": 37,
   "metadata": {},
   "outputs": [
    {
     "name": "stdout",
     "output_type": "stream",
     "text": [
      "[9.04361769e-01 4.15006324e-02 9.04361769e-01 5.20428781e-01\n",
      " 9.04361769e-01 9.04361769e-01 4.50339498e-01 5.09522806e-04\n",
      " 9.04361769e-01 9.04361769e-01 9.04361769e-01 9.04361769e-01\n",
      " 9.04361769e-01 4.80593604e-01 9.04361769e-01 4.27062111e-01\n",
      " 4.18394034e-01 9.04361769e-01 9.04361769e-01 9.04361769e-01\n",
      " 9.04361769e-01]\n",
      "[  1  13  14  15  16  29  41  50  56  65  75  95  98 106 115 117 118 119\n",
      " 131 138 141]\n",
      "[[0.         0.90053891 0.         ... 0.         0.         0.        ]\n",
      " [1.         0.         0.         ... 0.         0.         0.        ]\n",
      " [0.         0.97389184 0.         ... 0.         0.         0.        ]\n",
      " ...\n",
      " [0.         0.06904368 0.         ... 0.         0.         0.        ]\n",
      " [0.         0.05682807 0.         ... 0.         0.         0.        ]\n",
      " [0.         0.10332858 0.         ... 0.         0.         0.        ]]\n"
     ]
    }
   ],
   "source": [
    "decision, y_pred = classifier.fit()"
   ]
  },
  {
   "cell_type": "code",
   "execution_count": 38,
   "metadata": {},
   "outputs": [
    {
     "data": {
      "text/plain": [
       "0.9049829882260583"
      ]
     },
     "execution_count": 38,
     "metadata": {},
     "output_type": "execute_result"
    }
   ],
   "source": [
    "classifier.model.rho"
   ]
  },
  {
   "cell_type": "code",
   "execution_count": 39,
   "metadata": {},
   "outputs": [
    {
     "data": {
      "text/plain": [
       "array([ 1., -1.,  1.,  1.,  1.,  1.,  1.,  1.,  1.,  1.,  1.,  1.,  1.,\n",
       "       -1., -1., -1., -1.,  1.,  1.,  1.,  1.,  1.,  1.,  1.,  1.,  1.,\n",
       "        1.,  1.,  1., -1.,  1.,  1.,  1.,  1.,  1.,  1.,  1.,  1.,  1.,\n",
       "        1.,  1., -1.,  1.,  1.,  1.,  1.,  1.,  1.,  1.,  1.,  0.,  1.,\n",
       "        1.,  1.,  1.,  1., -1.,  1.,  1.,  1.,  1.,  1.,  1.,  1.,  1.,\n",
       "       -1.,  1.,  1.,  1.,  1.,  1.,  1.,  1.,  1.,  1., -1.,  1.,  1.,\n",
       "        1.,  1.,  1.,  1.,  1.,  1.,  1.,  1.,  1.,  1.,  1.,  1.,  1.,\n",
       "        1.,  1.,  1.,  1., -1.,  1.,  1., -1.,  1.,  1.,  1.,  1.,  1.,\n",
       "        1.,  1., -1.,  1.,  1.,  1.,  1.,  1.,  1.,  1.,  1., -1.,  1.,\n",
       "       -1., -1., -1.,  1.,  1.,  1.,  1.,  1.,  1.,  1.,  1.,  1.,  1.,\n",
       "        1., -1.,  1.,  1.,  1.,  1.,  1.,  1., -1.,  1.,  1., -1.,  1.,\n",
       "        1.,  1.,  1.,  1.,  1.,  1.,  1.])"
      ]
     },
     "execution_count": 39,
     "metadata": {},
     "output_type": "execute_result"
    }
   ],
   "source": [
    "y_pred"
   ]
  },
  {
   "cell_type": "code",
   "execution_count": 40,
   "metadata": {},
   "outputs": [
    {
     "data": {
      "text/plain": [
       "array([ 0.09578175, -0.00062122,  0.07473548,  0.08395659,  0.08940301,\n",
       "        0.09548524,  0.07888396,  0.10607903,  0.04805799,  0.09483776,\n",
       "        0.08806843,  0.10452537,  0.07890937, -0.00064652, -0.00062122,\n",
       "       -0.00065083, -0.00062122,  0.10184251,  0.07884601,  0.09144783,\n",
       "        0.11352932,  0.10375278,  0.0174358 ,  0.13777752,  0.11717391,\n",
       "        0.11008822,  0.12478352,  0.10408577,  0.09808658, -0.00062122,\n",
       "        0.10611578,  0.11089129,  0.04558423,  0.02506171,  0.10328812,\n",
       "        0.07674933,  0.07257983,  0.07783226,  0.04198637,  0.10746671,\n",
       "        0.08996927, -0.00065495,  0.04444806,  0.1244144 ,  0.11650146,\n",
       "        0.09309988,  0.09203849,  0.07627177,  0.09173256,  0.09891558,\n",
       "        0.        ,  0.05248558,  0.03071985,  0.04819513,  0.04552913,\n",
       "        0.06831531, -0.00062122,  0.07726032,  0.03103057,  0.07997409,\n",
       "        0.01532586,  0.0788729 ,  0.00185239,  0.06708095,  0.1029382 ,\n",
       "       -0.00062122,  0.07239896,  0.06228199,  0.00828297,  0.06769424,\n",
       "        0.06409568,  0.06294811,  0.04385959,  0.05231904,  0.04228302,\n",
       "       -0.00062122,  0.0230114 ,  0.05905427,  0.07324032,  0.08307919,\n",
       "        0.06399014,  0.06497075,  0.07781275,  0.06137566,  0.06339271,\n",
       "        0.05913673,  0.03808561,  0.0066865 ,  0.08733517,  0.0692793 ,\n",
       "        0.05589046,  0.06873476,  0.0685187 ,  0.06997772,  0.0756518 ,\n",
       "       -0.00062122,  0.08202487,  0.05915363, -0.00062122,  0.08253917,\n",
       "        0.02737357,  0.051326  ,  0.08237212,  0.07361084,  0.07470884,\n",
       "        0.0514368 , -0.00070678,  0.06552929,  0.05556405,  0.03891413,\n",
       "        0.06572309,  0.0689269 ,  0.07679886,  0.03041839,  0.01468635,\n",
       "       -0.00062122,  0.08071888, -0.00064895, -0.00065177, -0.00062122,\n",
       "        0.07162037,  0.04155339,  0.02868707,  0.06257649,  0.07702191,\n",
       "        0.07416657,  0.06683393,  0.07208986,  0.07133959,  0.05807237,\n",
       "        0.06133138, -0.00062122,  0.06653675,  0.06432493,  0.02986982,\n",
       "        0.04241339,  0.03583145,  0.07832188, -0.00062122,  0.0686106 ,\n",
       "        0.062646  , -0.00062122,  0.051326  ,  0.07603212,  0.05013384,\n",
       "        0.05112495,  0.04837487,  0.07275588,  0.03751843,  0.06510476])"
      ]
     },
     "execution_count": 40,
     "metadata": {},
     "output_type": "execute_result"
    }
   ],
   "source": [
    "classifier.model.decision"
   ]
  },
  {
   "cell_type": "code",
   "execution_count": 41,
   "metadata": {},
   "outputs": [
    {
     "name": "stdout",
     "output_type": "stream",
     "text": [
      "{1: {'count': 129, 'percentage': 86.0}, -1: {'count': 20, 'percentage': 13.333333333333334}}\n"
     ]
    }
   ],
   "source": [
    "# Check for the number of outliers\n",
    "\n",
    "counts = {1: np.sum(y_pred == 1), -1: np.sum(y_pred == -1)}\n",
    "total = len(y_pred)\n",
    "percentages = {key: (count / total) * 100 for key, count in counts.items()}\n",
    "\n",
    "results = {key: {\"count\": counts[key], \"percentage\": percentages[key]} for key in counts}\n",
    "\n",
    "print(results)"
   ]
  },
  {
   "cell_type": "code",
   "execution_count": 42,
   "metadata": {},
   "outputs": [
    {
     "data": {
      "text/plain": [
       "[1,\n",
       " 13,\n",
       " 14,\n",
       " 15,\n",
       " 16,\n",
       " 29,\n",
       " 41,\n",
       " 56,\n",
       " 65,\n",
       " 75,\n",
       " 95,\n",
       " 98,\n",
       " 106,\n",
       " 115,\n",
       " 117,\n",
       " 118,\n",
       " 119,\n",
       " 131,\n",
       " 138,\n",
       " 141]"
      ]
     },
     "execution_count": 42,
     "metadata": {},
     "output_type": "execute_result"
    }
   ],
   "source": [
    "# Outlier sample indices\n",
    "indices = [i for i, value in enumerate(y_pred) if value == -1]\n",
    "indices"
   ]
  },
  {
   "cell_type": "code",
   "execution_count": 43,
   "metadata": {},
   "outputs": [
    {
     "data": {
      "text/plain": [
       "array([ 14,  98,  75,  16, 131,  56, 141], dtype=int64)"
      ]
     },
     "execution_count": 43,
     "metadata": {},
     "output_type": "execute_result"
    }
   ],
   "source": [
    "indices_feature_1"
   ]
  },
  {
   "cell_type": "code",
   "execution_count": 44,
   "metadata": {},
   "outputs": [
    {
     "data": {
      "text/plain": [
       "array([138,   1, 119,  65, 115,  29,  95], dtype=int64)"
      ]
     },
     "execution_count": 44,
     "metadata": {},
     "output_type": "execute_result"
    }
   ],
   "source": [
    "indices_feature_2"
   ]
  },
  {
   "cell_type": "code",
   "execution_count": 45,
   "metadata": {},
   "outputs": [],
   "source": [
    "# Check if all points in the feature arrays are in the indices array\n",
    "all_in_indices_1 = np.all(np.isin(indices_feature_1, indices))\n",
    "all_in_indices_2 = np.all(np.isin(indices_feature_2, indices))\n",
    "\n",
    "# Find missing indices from the feature arrays\n",
    "missing_indices_1 = indices_feature_1[~np.isin(indices_feature_1, indices)]\n",
    "missing_indices_2 = indices_feature_2[~np.isin(indices_feature_2, indices)]\n",
    "\n",
    "# Calculate the total number of points in the feature arrays\n",
    "total_points_feature_1 = len(indices_feature_1)\n",
    "total_points_feature_2 = len(indices_feature_2)\n",
    "\n",
    "# Calculate the percentage of points covered\n",
    "covered_points_1 = total_points_feature_1 - len(missing_indices_1)\n",
    "covered_points_2 = total_points_feature_2 - len(missing_indices_2)\n",
    "\n",
    "percentage_covered_1 = (covered_points_1 / total_points_feature_1) * 100\n",
    "percentage_covered_2 = (covered_points_2 / total_points_feature_2) * 100"
   ]
  },
  {
   "cell_type": "code",
   "execution_count": 46,
   "metadata": {},
   "outputs": [
    {
     "name": "stdout",
     "output_type": "stream",
     "text": [
      "All indices from Feature 1 are present in the indices array.\n",
      "All indices from Feature 2 are present in the indices array.\n",
      "Percentage of points covered in Feature 1: 100.00%\n",
      "Percentage of points covered in Feature 2: 100.00%\n"
     ]
    }
   ],
   "source": [
    "if all_in_indices_1:\n",
    "    print(\"All indices from Feature 1 are present in the indices array.\")\n",
    "else:\n",
    "    print(f\"Missing indices from Feature 1: {sorted(missing_indices_1)}\")\n",
    "    \n",
    "if all_in_indices_2:\n",
    "    print(\"All indices from Feature 2 are present in the indices array.\")\n",
    "else:\n",
    "    print(f\"Missing indices from Feature 2: {sorted(missing_indices_2)}\")\n",
    "\n",
    "# Print percentage coverage\n",
    "print(f\"Percentage of points covered in Feature 1: {percentage_covered_1:.2f}%\")\n",
    "print(f\"Percentage of points covered in Feature 2: {percentage_covered_2:.2f}%\")"
   ]
  },
  {
   "cell_type": "code",
   "execution_count": 47,
   "metadata": {},
   "outputs": [
    {
     "data": {
      "text/plain": [
       "[41, 106, 13, 15, 117, 118]"
      ]
     },
     "execution_count": 47,
     "metadata": {},
     "output_type": "execute_result"
    }
   ],
   "source": [
    "\n",
    "other_outliers = list(set(indices).difference(set(indices_feature_1).union(set(indices_feature_2))))\n",
    "other_outliers\n"
   ]
  },
  {
   "cell_type": "code",
   "execution_count": 48,
   "metadata": {},
   "outputs": [
    {
     "name": "stderr",
     "output_type": "stream",
     "text": [
      "c:\\Users\\swath\\Documents\\CISPA\\OCSVM-SHAP\\src\\utils\\shapley_procedure\\coalitions.py:19: RuntimeWarning: divide by zero encountered in log2\n",
      "  set_to_1 = np.floor(np.log2(rest)).astype(int)\n",
      "c:\\Users\\swath\\Documents\\CISPA\\OCSVM-SHAP\\src\\utils\\shapley_procedure\\coalitions.py:19: RuntimeWarning: invalid value encountered in cast\n",
      "  set_to_1 = np.floor(np.log2(rest)).astype(int)\n",
      "c:\\Users\\swath\\Documents\\CISPA\\OCSVM-SHAP\\src\\utils\\shapley_procedure\\coalitions.py:19: RuntimeWarning: invalid value encountered in log2\n",
      "  set_to_1 = np.floor(np.log2(rest)).astype(int)\n",
      "  0%|          | 0/63 [00:00<?, ?it/s]"
     ]
    },
    {
     "name": "stderr",
     "output_type": "stream",
     "text": [
      "100%|██████████| 63/63 [00:49<00:00,  1.28it/s]\n"
     ]
    }
   ],
   "source": [
    "from src.explanation_algorithms.OCSVMSHAP import OCSVMSHAP\n",
    "ocsvm_shap = OCSVMSHAP(X=x_data, classifier=classifier)\n",
    "ocsvm_shap.fit_ocsvmshap(X=x_data, num_coalitions=2**x_data.shape[1])"
   ]
  },
  {
   "cell_type": "code",
   "execution_count": 49,
   "metadata": {},
   "outputs": [
    {
     "name": "stderr",
     "output_type": "stream",
     "text": [
      "IProgress not found. Please update jupyter and ipywidgets. See https://ipywidgets.readthedocs.io/en/stable/user_install.html\n"
     ]
    },
    {
     "data": {
      "image/png": "[encoded data removed]",
      "text/plain": [
       "<Figure size 800x390 with 2 Axes>"
      ]
     },
     "metadata": {},
     "output_type": "display_data"
    }
   ],
   "source": [
    "from src.utils.visualisation.deterministic_values import summary_plot, bar_plot, violin_plot\n",
    "mean_stochastic_shapley_values = ocsvm_shap.return_deterministic_shapley_values()\n",
    "summary_plot(mean_stochastic_shapley_values, x_data, feature_names=feature_names)\n",
    "plt.xlabel(\"Mean Stochastic Shapley values\")\n",
    "plt.show()"
   ]
  },
  {
   "cell_type": "markdown",
   "metadata": {},
   "source": [
    "Problems encountered previously has been resolved by using random numbers between 10,000 to 50,000 instead of a constant 10,000"
   ]
  },
  {
   "cell_type": "code",
   "execution_count": 50,
   "metadata": {},
   "outputs": [
    {
     "data": {
      "text/plain": [
       "tensor([[ 2.1982e-02,  1.5990e-02,  1.3169e-02,  3.9237e-03,  2.0715e-02,\n",
       "          1.2545e-02,  4.8804e-03,  2.0299e-02, -9.9978e-03,  1.9755e-02,\n",
       "          1.4279e-02,  1.3347e-02,  1.8236e-02, -1.3403e-02,  2.2686e-03,\n",
       "         -2.1477e-03,  1.3788e-02,  2.2072e-02, -3.8717e-03,  2.0114e-02,\n",
       "          1.4352e-02,  2.0376e-02,  1.1481e-02,  1.9407e-02,  1.1069e-02,\n",
       "          2.1624e-02,  1.9102e-02,  2.0312e-02,  2.2518e-02,  1.0571e-02,\n",
       "          1.4175e-02,  1.7381e-02,  1.8464e-02,  9.0109e-03,  1.9583e-02,\n",
       "          2.6595e-02,  1.5599e-02,  1.8654e-02, -8.5343e-03,  2.1307e-02,\n",
       "          2.2539e-02,  6.6647e-03, -9.1676e-03,  1.8826e-02,  1.8440e-02,\n",
       "          1.7671e-02,  1.9039e-02,  5.1596e-03,  1.7305e-02,  2.2270e-02,\n",
       "         -2.3834e-02,  1.6524e-03, -1.0796e-02,  1.8587e-02, -4.5626e-04,\n",
       "          1.9102e-02,  8.1647e-03,  1.0530e-02, -8.2782e-03,  1.7884e-02,\n",
       "          1.2968e-02,  1.5466e-02,  4.7094e-03,  1.2735e-02,  1.8039e-02,\n",
       "         -1.5666e-03,  1.9312e-02,  1.5297e-02,  8.3439e-03,  1.8490e-02,\n",
       "          1.4784e-02,  3.8651e-03,  9.0101e-03,  1.1486e-02, -5.2736e-03,\n",
       "          1.5371e-05, -1.0489e-02,  1.9482e-03,  1.4402e-02,  1.2149e-02,\n",
       "          1.9107e-02,  1.8683e-02,  1.4122e-02,  1.2528e-02,  1.7592e-02,\n",
       "          1.5990e-02, -7.0746e-03,  1.3889e-03,  2.1892e-02,  1.9568e-02,\n",
       "          1.9562e-02,  1.2508e-02,  1.4706e-02,  1.3730e-02,  2.0031e-02,\n",
       "          1.4479e-02,  1.9853e-02,  4.4549e-03,  1.3754e-02,  1.8935e-02,\n",
       "          1.3539e-03,  8.4706e-03,  6.9096e-03,  9.9516e-03,  9.2989e-03,\n",
       "         -4.1544e-04, -8.6814e-03,  2.4955e-03,  9.6111e-03,  4.8451e-03,\n",
       "          8.8602e-03,  1.0990e-02,  8.6147e-03,  6.6551e-03,  1.8052e-03,\n",
       "          7.9327e-03,  9.9422e-03, -3.5921e-03,  2.1067e-03,  1.0111e-02,\n",
       "          8.2682e-03,  6.2833e-03, -3.5884e-03,  1.1042e-02,  8.8478e-03,\n",
       "          1.8558e-03,  1.2045e-02,  1.3059e-02,  1.0075e-02, -2.7782e-03,\n",
       "         -7.9452e-05, -3.8408e-03,  9.7733e-03,  1.0237e-02,  9.0870e-03,\n",
       "         -5.8108e-03,  4.4660e-03,  1.0304e-02,  1.1121e-02,  5.9881e-03,\n",
       "          9.2568e-03,  4.8064e-03,  8.4706e-03,  9.2987e-03,  7.6010e-03,\n",
       "          8.6750e-03,  1.1811e-02,  9.8540e-03,  5.8382e-03,  1.1460e-02],\n",
       "        [ 1.8396e-02,  1.0614e-02,  1.5868e-02,  1.4526e-02,  1.4936e-02,\n",
       "          3.8571e-03,  1.9646e-02,  1.9595e-02,  5.5772e-03,  1.4363e-02,\n",
       "          1.4768e-02,  1.9706e-02,  9.5828e-03,  7.7614e-03,  4.0225e-03,\n",
       "         -4.3115e-02,  6.8125e-03,  1.9432e-02,  1.4300e-02,  7.6921e-03,\n",
       "          2.5460e-02,  1.3772e-02,  1.4166e-02,  2.5102e-02,  2.3587e-02,\n",
       "          1.4139e-02,  2.2519e-02,  1.9816e-02,  2.1285e-02,  1.4008e-02,\n",
       "          1.5881e-02,  2.6315e-02, -1.6002e-02, -2.3037e-02,  1.5806e-02,\n",
       "          1.8175e-02,  2.4494e-02,  1.3371e-02,  9.7321e-03,  2.0471e-02,\n",
       "          1.8390e-02, -3.7403e-02,  1.6260e-02,  2.2585e-02,  1.1667e-02,\n",
       "          1.2486e-02,  7.3788e-03,  1.6322e-02,  1.3537e-02,  1.9365e-02,\n",
       "          1.5441e-02,  1.6853e-02,  1.4448e-02, -1.6313e-02,  1.0751e-02,\n",
       "          1.5079e-02,  1.1926e-02, -3.7967e-03,  1.5173e-02,  1.5493e-02,\n",
       "         -4.3958e-02,  1.9558e-02, -2.3588e-02,  1.5061e-02,  2.3448e-02,\n",
       "          1.3518e-02,  2.0327e-02,  1.4044e-02, -2.6083e-02,  1.1071e-03,\n",
       "          1.5580e-02,  1.5974e-02, -4.2890e-03,  1.3347e-02,  1.7185e-02,\n",
       "          1.3271e-02,  1.0588e-02,  1.2952e-02,  1.5293e-02,  9.6218e-03,\n",
       "         -6.6143e-03, -6.1028e-03,  1.3077e-02,  6.4200e-03,  2.2277e-02,\n",
       "          1.4483e-02,  1.5450e-02, -1.6685e-02,  2.4574e-02,  5.0304e-05,\n",
       "          6.8147e-03,  1.7699e-02,  6.6248e-03, -1.4544e-02,  1.1971e-02,\n",
       "          1.5145e-02,  2.0314e-02,  1.7514e-02,  3.2757e-03,  1.6778e-02,\n",
       "          1.4377e-02,  6.1780e-03,  1.4631e-02,  1.3003e-02,  1.5100e-02,\n",
       "          1.6455e-02,  3.2172e-03,  1.3940e-02, -1.7678e-03,  2.6466e-03,\n",
       "          1.1907e-02,  5.9447e-03,  1.3286e-02, -3.8071e-03,  9.7570e-03,\n",
       "          1.1740e-02,  1.3834e-02, -4.0468e-03,  9.0689e-03, -6.9299e-03,\n",
       "          1.3507e-02,  1.0274e-02,  1.3031e-02,  5.2878e-03,  1.1618e-02,\n",
       "          1.4069e-02,  9.0893e-03,  1.3873e-02,  1.0670e-02,  1.3759e-02,\n",
       "          1.1251e-02,  3.3921e-03,  1.0974e-02,  1.0153e-02,  2.7061e-03,\n",
       "          1.5845e-02,  9.1626e-03,  1.4569e-02,  1.2313e-02,  1.2880e-02,\n",
       "          1.4543e-02,  1.1718e-02,  6.1780e-03,  1.4623e-02,  1.2253e-02,\n",
       "          1.2621e-02, -4.4293e-03,  1.2612e-02,  8.4850e-03,  1.4664e-02],\n",
       "        [ 1.0976e-02,  1.2273e-02,  1.8987e-03,  2.1667e-02,  1.0373e-02,\n",
       "          3.4269e-02,  1.3271e-02,  2.0954e-02,  1.2353e-02,  2.0947e-02,\n",
       "          1.8495e-02,  2.9599e-02,  1.1534e-02, -1.9201e-02, -2.0904e-03,\n",
       "          1.2861e-02,  5.8175e-03,  1.2117e-02,  3.1718e-02,  1.9536e-02,\n",
       "          3.6607e-02,  2.1575e-02, -3.3916e-02,  4.0778e-02,  4.9400e-02,\n",
       "          3.0547e-02,  3.1786e-02,  2.0373e-02,  1.1705e-02,  2.0956e-02,\n",
       "          3.0059e-02,  2.2936e-02,  1.4671e-02,  4.9799e-03,  2.1798e-02,\n",
       "         -8.8230e-03,  1.1194e-03,  9.4699e-03,  2.7998e-03,  2.0994e-02,\n",
       "          1.8784e-03, -8.6876e-04,  3.1792e-03,  3.4325e-02,  4.8523e-02,\n",
       "          1.3322e-02,  2.6747e-02,  1.2351e-02,  1.8693e-02,  1.1980e-02,\n",
       "         -8.3470e-03, -2.6024e-03,  2.6957e-04,  6.8871e-03, -4.7923e-05,\n",
       "         -2.7567e-03,  4.1329e-03,  3.2293e-02, -2.2967e-03,  1.2671e-02,\n",
       "          1.6290e-02,  4.2995e-03,  4.3678e-03,  5.6926e-04,  2.4388e-02,\n",
       "          1.1944e-03, -1.5145e-03,  2.4434e-03,  2.7698e-03,  9.5024e-03,\n",
       "          1.1581e-03,  5.4186e-03,  6.6494e-03, -1.3010e-03, -2.3402e-03,\n",
       "          2.1362e-03,  8.2547e-04,  5.7067e-03,  1.2541e-03,  2.4845e-02,\n",
       "          1.2528e-02,  1.5600e-02,  1.0534e-02,  4.8350e-03, -3.7799e-03,\n",
       "         -4.9649e-04, -2.5950e-03,  1.0766e-03,  5.3792e-03,  8.0277e-03,\n",
       "         -4.5766e-03, -2.0608e-04,  7.4783e-03,  3.1195e-02,  2.8442e-03,\n",
       "          5.0007e-03,  2.9659e-03,  8.9419e-06,  2.5668e-02,  5.8052e-03,\n",
       "          4.6753e-03,  3.9311e-03,  1.7592e-02,  1.3769e-02,  1.4577e-02,\n",
       "         -3.6455e-03, -6.7980e-03,  1.6309e-02,  2.3087e-02,  5.8166e-03,\n",
       "          6.6471e-03,  1.3818e-02,  1.4853e-02,  3.4387e-03,  3.9394e-03,\n",
       "          8.1080e-03,  1.5437e-02, -1.0809e-02, -2.4752e-02,  6.5174e-03,\n",
       "          1.3159e-02,  9.7318e-04, -6.5026e-03,  6.7683e-03,  1.5171e-02,\n",
       "          1.9747e-02,  4.7697e-03,  4.2588e-03,  1.5547e-02,  2.2276e-02,\n",
       "          1.9002e-02,  3.4468e-03,  1.4841e-02,  7.8015e-03,  7.2521e-03,\n",
       "          7.3629e-03,  7.9781e-03,  1.3489e-02,  5.4415e-03,  1.1591e-02,\n",
       "          1.1669e-02,  4.6172e-03,  3.9311e-03,  1.3543e-02,  9.5704e-03,\n",
       "          6.3858e-03,  9.3656e-03,  1.0069e-02,  6.7607e-03,  3.1334e-03],\n",
       "        [ 1.5714e-02,  1.4133e-02,  1.5450e-02,  1.4595e-02,  1.5424e-02,\n",
       "          1.5910e-02,  1.5919e-02,  1.5624e-02,  1.3520e-02,  1.3840e-02,\n",
       "          1.4489e-02,  1.4968e-02,  1.3728e-02,  1.1881e-02,  1.1794e-02,\n",
       "          1.2796e-02,  1.3092e-02,  1.7237e-02,  1.3708e-02,  1.6053e-02,\n",
       "          1.4730e-02,  1.7465e-02,  1.5124e-02,  1.8762e-02,  1.4529e-02,\n",
       "          1.5672e-02,  1.7956e-02,  1.5426e-02,  1.5850e-02,  1.3738e-02,\n",
       "          1.5219e-02,  1.8093e-02,  1.2285e-02,  1.2740e-02,  1.5702e-02,\n",
       "          1.6537e-02,  1.4914e-02,  1.3511e-02,  1.3825e-02,  1.5664e-02,\n",
       "          1.7380e-02,  1.3793e-02,  1.3839e-02,  1.8649e-02,  1.6126e-02,\n",
       "          1.7154e-02,  1.4555e-02,  1.4755e-02,  1.4791e-02,  1.5986e-02,\n",
       "          3.7018e-03,  8.8063e-03,  5.9478e-03,  9.1688e-03,  8.6958e-03,\n",
       "          1.0098e-02,  8.2484e-03,  1.0939e-02,  4.9491e-03,  5.7390e-03,\n",
       "          9.8284e-03,  8.1315e-03,  6.9108e-03,  9.2607e-03,  9.0605e-03,\n",
       "          7.9245e-03,  7.9957e-03,  9.3757e-03,  9.1970e-03,  1.0791e-02,\n",
       "          5.5474e-03,  9.7208e-03,  8.5305e-03,  7.1988e-03,  7.6750e-03,\n",
       "          8.1440e-03,  4.4919e-03,  9.5560e-03,  9.1618e-03,  1.2200e-02,\n",
       "          1.0908e-02,  1.1524e-02,  1.0465e-02,  1.0095e-02,  7.1237e-03,\n",
       "          7.4809e-03,  7.6467e-03,  7.0988e-03,  9.5246e-03,  9.3340e-03,\n",
       "          1.0368e-02,  9.3040e-03,  1.0195e-02,  1.1129e-02,  9.7417e-03,\n",
       "          9.7887e-03,  9.7936e-03,  8.6830e-03,  8.4202e-03,  9.7417e-03,\n",
       "         -4.0162e-03,  5.4987e-03,  9.1621e-03,  1.1331e-02,  6.9828e-03,\n",
       "          6.0910e-03, -7.9761e-04,  7.5129e-03,  1.0007e-02,  1.1138e-03,\n",
       "          8.0754e-03,  9.9159e-03,  9.3143e-03,  2.0192e-03, -1.1597e-02,\n",
       "          4.7200e-03,  1.0873e-02,  3.4734e-03,  4.4140e-03,  8.7779e-03,\n",
       "          6.1219e-03, -1.1344e-03,  5.6899e-03,  9.4681e-03,  9.0050e-03,\n",
       "          8.2864e-03,  8.5668e-03,  7.9165e-03,  8.1267e-03,  4.4577e-03,\n",
       "          7.1927e-03,  4.5714e-03,  6.1322e-03,  9.1253e-03,  9.7951e-03,\n",
       "          4.5935e-03, -2.5596e-03,  1.1085e-02,  7.4189e-03,  9.3264e-03,\n",
       "          2.5765e-03,  6.0952e-03,  5.4987e-03,  5.9489e-03, -1.0197e-03,\n",
       "          5.2188e-03,  9.3133e-03,  8.7798e-03, -1.4779e-03,  7.8014e-03],\n",
       "        [ 1.2059e-02,  1.0642e-02,  1.0846e-02,  1.0538e-02,  1.1943e-02,\n",
       "          1.4405e-02,  1.2007e-02,  1.1119e-02,  1.0675e-02,  9.3887e-03,\n",
       "          1.3041e-02,  1.0364e-02,  9.3654e-03,  8.7514e-03, -2.6787e-02,\n",
       "          1.8926e-02, -5.0530e-02,  1.3470e-02,  1.4167e-02,  1.3302e-02,\n",
       "          1.1183e-02,  1.4527e-02,  1.2499e-02,  1.5433e-02,  9.3364e-03,\n",
       "          1.0933e-02,  1.3737e-02,  1.1839e-02,  1.2222e-02,  1.0493e-02,\n",
       "          1.0614e-02,  1.5328e-02,  1.2132e-02,  1.6266e-02,  1.0887e-02,\n",
       "          1.1879e-02,  1.4422e-02,  1.0329e-02,  1.0419e-02,  1.1403e-02,\n",
       "          1.3569e-02,  1.3055e-02,  1.0416e-02,  1.6826e-02,  1.2030e-02,\n",
       "          1.2425e-02,  1.1316e-02,  1.0579e-02,  1.2628e-02,  1.1421e-02,\n",
       "          1.5052e-02,  1.4809e-02,  1.4086e-02,  1.2901e-02,  1.2721e-02,\n",
       "          9.9925e-03, -4.5044e-02,  1.8539e-02,  1.2039e-02,  1.5409e-02,\n",
       "          1.6187e-02,  1.4568e-02,  9.5315e-03,  1.1087e-02,  1.7668e-02,\n",
       "          1.1639e-02,  1.1746e-02,  9.4002e-03,  1.0638e-02,  1.1792e-02,\n",
       "          1.3267e-02,  1.4144e-02,  9.7602e-03,  9.5396e-03,  1.2907e-02,\n",
       "         -3.5486e-02,  1.1978e-02,  1.3511e-02,  1.2379e-02,  1.4649e-02,\n",
       "          1.2869e-02,  1.2640e-02,  1.3296e-02,  9.8241e-03,  1.1334e-02,\n",
       "          1.4997e-02,  1.4289e-02,  1.0111e-02,  1.2791e-02,  1.3075e-02,\n",
       "          8.8690e-03,  1.1885e-02,  1.2251e-02,  1.8585e-02,  1.1490e-02,\n",
       "          1.0912e-02,  1.2030e-02,  1.2422e-02, -6.2508e-02,  1.2646e-02,\n",
       "          9.9953e-03,  1.0071e-02,  1.1781e-02,  1.0927e-02,  1.0736e-02,\n",
       "          1.1246e-02,  1.0966e-02,  1.1519e-02,  1.0230e-02,  1.2988e-02,\n",
       "          1.4422e-02,  1.0863e-02,  1.2553e-02,  9.9634e-03,  1.1395e-02,\n",
       "          1.1246e-02,  1.1728e-02,  1.3401e-02,  1.0909e-02,  9.9910e-03,\n",
       "          1.2803e-02,  1.1090e-02,  1.1442e-02,  1.1882e-02,  1.2803e-02,\n",
       "          1.2797e-02,  1.2538e-02,  1.2547e-02,  1.0532e-02,  1.2469e-02,\n",
       "          1.1479e-02, -1.8616e-02,  1.0521e-02,  1.0614e-02,  1.0193e-02,\n",
       "          1.2747e-02,  1.2292e-02,  1.2007e-02,  1.1066e-02,  1.3842e-02,\n",
       "          1.2379e-02, -3.9228e-02,  1.0071e-02,  1.1531e-02,  1.2541e-02,\n",
       "          1.4420e-02,  1.1096e-02,  1.2936e-02,  1.3046e-02,  1.1264e-02],\n",
       "        [ 1.3000e-02, -6.4249e-02,  1.4190e-02,  1.5589e-02,  1.2605e-02,\n",
       "          1.1165e-02,  1.3122e-02,  1.4080e-02,  1.5465e-02,  1.6182e-02,\n",
       "          1.1856e-02,  1.4788e-02,  1.6158e-02,  1.3742e-02,  1.0186e-02,\n",
       "          8.5628e-03,  1.0419e-02,  1.2495e-02,  1.1101e-02,  1.1525e-02,\n",
       "          1.3900e-02,  1.1531e-02,  1.0209e-02,  1.3412e-02,  1.6164e-02,\n",
       "          1.6124e-02,  1.3389e-02,  1.3267e-02,  1.3302e-02, -7.0364e-02,\n",
       "          1.6048e-02,  1.2263e-02,  1.0617e-02,  9.1419e-03,  1.5520e-02,\n",
       "          1.3621e-02,  1.1775e-02,  1.3151e-02,  1.4582e-02,  1.3911e-02,\n",
       "          1.2141e-02,  1.4814e-02,  1.3830e-02,  1.1879e-02,  1.3006e-02,\n",
       "          1.4794e-02,  1.2396e-02,  1.4689e-02,  1.2106e-02,  1.4103e-02,\n",
       "          1.2893e-02,  1.4721e-02,  1.2832e-02,  1.1020e-02,  1.2756e-02,\n",
       "          1.4138e-02,  1.1970e-02,  1.1816e-02,  1.2823e-02,  1.2274e-02,\n",
       "          1.0161e-02,  1.4254e-02,  1.1008e-02,  1.4030e-02,  1.2826e-02,\n",
       "         -3.3315e-02,  1.4707e-02,  1.3755e-02,  1.1152e-02,  1.2384e-02,\n",
       "          1.5322e-02,  1.2611e-02,  1.2443e-02,  1.3824e-02,  1.3012e-02,\n",
       "          1.1315e-02,  1.2048e-02,  1.3128e-02,  1.4051e-02,  1.2036e-02,\n",
       "          1.1807e-02,  1.2048e-02,  1.2669e-02,  1.3099e-02,  1.4539e-02,\n",
       "          1.6426e-02,  1.3488e-02,  1.1178e-02,  1.4637e-02,  1.1961e-02,\n",
       "          1.3554e-02,  1.4428e-02,  1.2460e-02,  1.1305e-02,  1.3337e-02,\n",
       "         -5.5925e-02,  1.4260e-02,  1.3554e-02,  1.0791e-02,  1.3552e-02,\n",
       "          1.1406e-02,  1.2980e-02,  1.0910e-02,  1.2112e-02,  1.1676e-02,\n",
       "          1.0167e-02,  1.0578e-02,  1.0126e-02,  1.1206e-02,  1.1212e-02,\n",
       "          1.4422e-02,  1.2570e-02,  1.2344e-02,  1.2402e-02,  1.3607e-02,\n",
       "         -4.4349e-02,  1.2425e-02,  1.0279e-02,  1.0687e-02, -2.9073e-02,\n",
       "          1.2210e-02,  1.3319e-02,  1.0615e-02,  1.3049e-02,  1.2350e-02,\n",
       "          1.0567e-02,  1.3531e-02,  1.4324e-02,  1.2135e-02,  1.0744e-02,\n",
       "          1.0329e-02,  1.0438e-02,  1.2193e-02,  1.3052e-02,  1.2091e-02,\n",
       "          1.0396e-02,  1.3720e-02,  1.2704e-02, -4.7961e-02,  1.2727e-02,\n",
       "          1.2797e-02,  1.1387e-02,  1.2980e-02,  1.1461e-02,  1.2890e-02,\n",
       "          1.3671e-02,  1.2524e-02,  1.3493e-02,  1.4614e-02,  1.3911e-02]])"
      ]
     },
     "execution_count": 50,
     "metadata": {},
     "output_type": "execute_result"
    }
   ],
   "source": [
    "mean_stochastic_shapley_values"
   ]
  },
  {
   "cell_type": "code",
   "execution_count": 51,
   "metadata": {},
   "outputs": [
    {
     "name": "stderr",
     "output_type": "stream",
     "text": [
      "The use of `x.T` on tensors of dimension other than 2 to reverse their shape is deprecated and it will throw an error in a future release. Consider `x.mT` to transpose batches of matrices or `x.permute(*torch.arange(x.ndim - 1, -1, -1))` to reverse the dimensions of a tensor. (Triggered internally at C:\\cb\\pytorch_1000000000000\\work\\aten\\src\\ATen\\native\\TensorShape.cpp:3618.)\n"
     ]
    },
    {
     "data": {
      "image/png": "[encoded data removed]",
      "text/plain": [
       "<Figure size 640x480 with 1 Axes>"
      ]
     },
     "metadata": {},
     "output_type": "display_data"
    }
   ],
   "source": [
    "bar_plot(mean_stochastic_shapley_values.T[14], x_data[14], feature_names=feature_names)"
   ]
  },
  {
   "cell_type": "markdown",
   "metadata": {},
   "source": [
    "All outliers from the picked sample has been recognized along with a few other outliers."
   ]
  },
  {
   "cell_type": "code",
   "execution_count": 52,
   "metadata": {},
   "outputs": [
    {
     "data": {
      "text/plain": [
       "tensor([-0.0021, -0.0431,  0.0129,  0.0128,  0.0189,  0.0086])"
      ]
     },
     "execution_count": 52,
     "metadata": {},
     "output_type": "execute_result"
    }
   ],
   "source": [
    "mean_stochastic_shapley_values.T[15]"
   ]
  },
  {
   "cell_type": "code",
   "execution_count": 53,
   "metadata": {},
   "outputs": [
    {
     "data": {
      "image/png": "[encoded data removed]",
      "text/plain": [
       "<Figure size 1200x600 with 2 Axes>"
      ]
     },
     "metadata": {},
     "output_type": "display_data"
    }
   ],
   "source": [
    "summed_shapley_values_1 = np.zeros(6, dtype='float32')\n",
    "summed_shapley_values_2 = np.zeros(6, dtype='float32')\n",
    "\n",
    "for i in indices_feature_1:\n",
    "    summed_shapley_values_1 = mean_stochastic_shapley_values.T[i] + summed_shapley_values_1\n",
    "for i in indices_feature_2: \n",
    "    summed_shapley_values_2 = mean_stochastic_shapley_values.T[i] + summed_shapley_values_2\n",
    "\n",
    "fig, ax = plt.subplots(1, 2, figsize=(12, 6))\n",
    "\n",
    "for i, value in enumerate(summed_shapley_values_1):\n",
    "    color = 'blue' if value >= 0 else 'red'  \n",
    "    ax[0].bar(i, value, color=color, edgecolor='black')  \n",
    "ax[0].set_xticks(range(6)), ax[0].set_xticklabels(feature_names, rotation=45)\n",
    "ax[0].set_title('Summed Shapley Values (Set 1)')\n",
    "ax[0].set_xlabel('Feature'), ax[0].set_ylabel('Summed Shapley Value')\n",
    "ax[0].grid(True, axis='y')\n",
    "\n",
    "for i, value in enumerate(summed_shapley_values_2):\n",
    "    color = 'blue' if value >= 0 else 'red'  \n",
    "    ax[1].bar(i, value, color=color, edgecolor='black')  \n",
    "ax[1].set_xticks(range(6)), ax[1].set_xticklabels(feature_names, rotation=45)\n",
    "ax[1].set_title('Summed Shapley Values (Set 2)')\n",
    "ax[1].set_xlabel('Feature'), ax[1].set_ylabel('Summed Shapley Value')\n",
    "ax[1].grid(True, axis='y')\n",
    "plt.tight_layout()\n",
    "plt.show()"
   ]
  },
  {
   "cell_type": "code",
   "execution_count": 54,
   "metadata": {},
   "outputs": [
    {
     "data": {
      "image/png": "[encoded data removed]",
      "text/plain": [
       "<Figure size 640x480 with 1 Axes>"
      ]
     },
     "metadata": {},
     "output_type": "display_data"
    }
   ],
   "source": [
    "#Histogram for indicies of other outliers\n",
    "\n",
    "summed_shapley_values_other = np.zeros(6, dtype='float32')\n",
    "\n",
    "for i in other_outliers:\n",
    "    summed_shapley_values_other = mean_stochastic_shapley_values.T[i] + summed_shapley_values_other\n",
    "\n",
    "for i, value in enumerate(summed_shapley_values_other):\n",
    "    color = 'blue' if value >= 0 else 'red' \n",
    "    plt.bar(i, value, color=color, edgecolor='black')  #\n",
    "\n",
    "plt.xticks(range(6), feature_names)\n",
    "plt.xticks(rotation=45)  \n",
    "plt.title('Summed Shapley Values for Features across other outliers')\n",
    "plt.xlabel('Feature')\n",
    "plt.ylabel('Summed Shapley Value')\n",
    "plt.grid(True, axis='y')\n",
    "plt.show()"
   ]
  },
  {
   "cell_type": "markdown",
   "metadata": {},
   "source": [
    "## Experiment 2.2\n",
    "\n",
    "Let us try to use a larger dataset. \n",
    "Consider the Wine Quality dataset from the UCI Machine Learning Repository"
   ]
  },
  {
   "cell_type": "code",
   "execution_count": 55,
   "metadata": {},
   "outputs": [
    {
     "data": {
      "text/plain": [
       "Index(['fixed acidity', 'volatile acidity', 'citric acid', 'residual sugar',\n",
       "       'chlorides', 'free sulfur dioxide', 'total sulfur dioxide', 'density',\n",
       "       'pH', 'sulphates', 'alcohol', 'quality'],\n",
       "      dtype='object')"
      ]
     },
     "execution_count": 55,
     "metadata": {},
     "output_type": "execute_result"
    }
   ],
   "source": [
    "url = 'https://archive.ics.uci.edu/ml/machine-learning-databases/wine-quality/winequality-red.csv'\n",
    "wine_data = pd.read_csv(url, sep=';')\n",
    "wine_data.columns"
   ]
  },
  {
   "cell_type": "code",
   "execution_count": 56,
   "metadata": {},
   "outputs": [
    {
     "data": {
      "text/html": [
       "<div>\n",
       "<style scoped>\n",
       "    .dataframe tbody tr th:only-of-type {\n",
       "        vertical-align: middle;\n",
       "    }\n",
       "\n",
       "    .dataframe tbody tr th {\n",
       "        vertical-align: top;\n",
       "    }\n",
       "\n",
       "    .dataframe thead th {\n",
       "        text-align: right;\n",
       "    }\n",
       "</style>\n",
       "<table border=\"1\" class=\"dataframe\">\n",
       "  <thead>\n",
       "    <tr style=\"text-align: right;\">\n",
       "      <th></th>\n",
       "      <th>alcohol</th>\n",
       "      <th>volatile acidity</th>\n",
       "      <th>fixed acidity</th>\n",
       "      <th>pH</th>\n",
       "    </tr>\n",
       "  </thead>\n",
       "  <tbody>\n",
       "    <tr>\n",
       "      <th>0</th>\n",
       "      <td>9.4</td>\n",
       "      <td>0.700</td>\n",
       "      <td>7.4</td>\n",
       "      <td>3.51</td>\n",
       "    </tr>\n",
       "    <tr>\n",
       "      <th>1</th>\n",
       "      <td>9.8</td>\n",
       "      <td>0.880</td>\n",
       "      <td>7.8</td>\n",
       "      <td>3.20</td>\n",
       "    </tr>\n",
       "    <tr>\n",
       "      <th>2</th>\n",
       "      <td>9.8</td>\n",
       "      <td>0.760</td>\n",
       "      <td>7.8</td>\n",
       "      <td>3.26</td>\n",
       "    </tr>\n",
       "    <tr>\n",
       "      <th>3</th>\n",
       "      <td>9.8</td>\n",
       "      <td>0.280</td>\n",
       "      <td>11.2</td>\n",
       "      <td>3.16</td>\n",
       "    </tr>\n",
       "    <tr>\n",
       "      <th>4</th>\n",
       "      <td>9.4</td>\n",
       "      <td>0.700</td>\n",
       "      <td>7.4</td>\n",
       "      <td>3.51</td>\n",
       "    </tr>\n",
       "    <tr>\n",
       "      <th>...</th>\n",
       "      <td>...</td>\n",
       "      <td>...</td>\n",
       "      <td>...</td>\n",
       "      <td>...</td>\n",
       "    </tr>\n",
       "    <tr>\n",
       "      <th>1594</th>\n",
       "      <td>10.5</td>\n",
       "      <td>0.600</td>\n",
       "      <td>6.2</td>\n",
       "      <td>3.45</td>\n",
       "    </tr>\n",
       "    <tr>\n",
       "      <th>1595</th>\n",
       "      <td>11.2</td>\n",
       "      <td>0.550</td>\n",
       "      <td>5.9</td>\n",
       "      <td>3.52</td>\n",
       "    </tr>\n",
       "    <tr>\n",
       "      <th>1596</th>\n",
       "      <td>11.0</td>\n",
       "      <td>0.510</td>\n",
       "      <td>6.3</td>\n",
       "      <td>3.42</td>\n",
       "    </tr>\n",
       "    <tr>\n",
       "      <th>1597</th>\n",
       "      <td>10.2</td>\n",
       "      <td>0.645</td>\n",
       "      <td>5.9</td>\n",
       "      <td>3.57</td>\n",
       "    </tr>\n",
       "    <tr>\n",
       "      <th>1598</th>\n",
       "      <td>11.0</td>\n",
       "      <td>0.310</td>\n",
       "      <td>6.0</td>\n",
       "      <td>3.39</td>\n",
       "    </tr>\n",
       "  </tbody>\n",
       "</table>\n",
       "<p>1599 rows × 4 columns</p>\n",
       "</div>"
      ],
      "text/plain": [
       "      alcohol  volatile acidity  fixed acidity    pH\n",
       "0         9.4             0.700            7.4  3.51\n",
       "1         9.8             0.880            7.8  3.20\n",
       "2         9.8             0.760            7.8  3.26\n",
       "3         9.8             0.280           11.2  3.16\n",
       "4         9.4             0.700            7.4  3.51\n",
       "...       ...               ...            ...   ...\n",
       "1594     10.5             0.600            6.2  3.45\n",
       "1595     11.2             0.550            5.9  3.52\n",
       "1596     11.0             0.510            6.3  3.42\n",
       "1597     10.2             0.645            5.9  3.57\n",
       "1598     11.0             0.310            6.0  3.39\n",
       "\n",
       "[1599 rows x 4 columns]"
      ]
     },
     "execution_count": 56,
     "metadata": {},
     "output_type": "execute_result"
    }
   ],
   "source": [
    "selected_columns = wine_data[['alcohol', 'volatile acidity', 'fixed acidity', 'pH']]\n",
    "selected_columns"
   ]
  },
  {
   "cell_type": "markdown",
   "metadata": {},
   "source": [
    "We will also add 2 other features called artificial_feature_1 and arificial_feature_2 with custom values. \n",
    "\n",
    "For 5% of the data samples, we give an extremely large value of artificial_feature_1 and for another 5% of the data samples, an extremely large value of artificial_feature_2. Rest of the samples have value between 1 and 5 for these features. \n",
    "\n",
    "We will define the process of explaning an outlier as the process of identifying the right feature(s) that makes the data sample an outlier.\n",
    "\n",
    "Given this scenario, we expect artificial_feature_1 to be the explanation when a data sample from the first 5% of data is chosen. Simillarly, artificial_feature_1 as the explanation when any data sample from the second 5% data is chosen. "
   ]
  },
  {
   "cell_type": "code",
   "execution_count": 57,
   "metadata": {},
   "outputs": [
    {
     "name": "stderr",
     "output_type": "stream",
     "text": [
      "\n",
      "A value is trying to be set on a copy of a slice from a DataFrame.\n",
      "Try using .loc[row_indexer,col_indexer] = value instead\n",
      "\n",
      "See the caveats in the documentation: https://pandas.pydata.org/pandas-docs/stable/user_guide/indexing.html#returning-a-view-versus-a-copy\n",
      "\n",
      "A value is trying to be set on a copy of a slice from a DataFrame.\n",
      "Try using .loc[row_indexer,col_indexer] = value instead\n",
      "\n",
      "See the caveats in the documentation: https://pandas.pydata.org/pandas-docs/stable/user_guide/indexing.html#returning-a-view-versus-a-copy\n"
     ]
    },
    {
     "data": {
      "text/html": [
       "<div>\n",
       "<style scoped>\n",
       "    .dataframe tbody tr th:only-of-type {\n",
       "        vertical-align: middle;\n",
       "    }\n",
       "\n",
       "    .dataframe tbody tr th {\n",
       "        vertical-align: top;\n",
       "    }\n",
       "\n",
       "    .dataframe thead th {\n",
       "        text-align: right;\n",
       "    }\n",
       "</style>\n",
       "<table border=\"1\" class=\"dataframe\">\n",
       "  <thead>\n",
       "    <tr style=\"text-align: right;\">\n",
       "      <th></th>\n",
       "      <th>alcohol</th>\n",
       "      <th>volatile acidity</th>\n",
       "      <th>fixed acidity</th>\n",
       "      <th>pH</th>\n",
       "      <th>artificial_feature_1</th>\n",
       "      <th>artificial_feature_2</th>\n",
       "    </tr>\n",
       "  </thead>\n",
       "  <tbody>\n",
       "    <tr>\n",
       "      <th>0</th>\n",
       "      <td>9.4</td>\n",
       "      <td>0.700</td>\n",
       "      <td>7.4</td>\n",
       "      <td>3.51</td>\n",
       "      <td>5</td>\n",
       "      <td>2</td>\n",
       "    </tr>\n",
       "    <tr>\n",
       "      <th>1</th>\n",
       "      <td>9.8</td>\n",
       "      <td>0.880</td>\n",
       "      <td>7.8</td>\n",
       "      <td>3.20</td>\n",
       "      <td>1</td>\n",
       "      <td>1</td>\n",
       "    </tr>\n",
       "    <tr>\n",
       "      <th>2</th>\n",
       "      <td>9.8</td>\n",
       "      <td>0.760</td>\n",
       "      <td>7.8</td>\n",
       "      <td>3.26</td>\n",
       "      <td>4</td>\n",
       "      <td>1</td>\n",
       "    </tr>\n",
       "    <tr>\n",
       "      <th>3</th>\n",
       "      <td>9.8</td>\n",
       "      <td>0.280</td>\n",
       "      <td>11.2</td>\n",
       "      <td>3.16</td>\n",
       "      <td>2</td>\n",
       "      <td>5</td>\n",
       "    </tr>\n",
       "    <tr>\n",
       "      <th>4</th>\n",
       "      <td>9.4</td>\n",
       "      <td>0.700</td>\n",
       "      <td>7.4</td>\n",
       "      <td>3.51</td>\n",
       "      <td>5</td>\n",
       "      <td>5</td>\n",
       "    </tr>\n",
       "    <tr>\n",
       "      <th>...</th>\n",
       "      <td>...</td>\n",
       "      <td>...</td>\n",
       "      <td>...</td>\n",
       "      <td>...</td>\n",
       "      <td>...</td>\n",
       "      <td>...</td>\n",
       "    </tr>\n",
       "    <tr>\n",
       "      <th>1594</th>\n",
       "      <td>10.5</td>\n",
       "      <td>0.600</td>\n",
       "      <td>6.2</td>\n",
       "      <td>3.45</td>\n",
       "      <td>4</td>\n",
       "      <td>5</td>\n",
       "    </tr>\n",
       "    <tr>\n",
       "      <th>1595</th>\n",
       "      <td>11.2</td>\n",
       "      <td>0.550</td>\n",
       "      <td>5.9</td>\n",
       "      <td>3.52</td>\n",
       "      <td>1</td>\n",
       "      <td>2</td>\n",
       "    </tr>\n",
       "    <tr>\n",
       "      <th>1596</th>\n",
       "      <td>11.0</td>\n",
       "      <td>0.510</td>\n",
       "      <td>6.3</td>\n",
       "      <td>3.42</td>\n",
       "      <td>4</td>\n",
       "      <td>4</td>\n",
       "    </tr>\n",
       "    <tr>\n",
       "      <th>1597</th>\n",
       "      <td>10.2</td>\n",
       "      <td>0.645</td>\n",
       "      <td>5.9</td>\n",
       "      <td>3.57</td>\n",
       "      <td>1</td>\n",
       "      <td>4</td>\n",
       "    </tr>\n",
       "    <tr>\n",
       "      <th>1598</th>\n",
       "      <td>11.0</td>\n",
       "      <td>0.310</td>\n",
       "      <td>6.0</td>\n",
       "      <td>3.39</td>\n",
       "      <td>1</td>\n",
       "      <td>3</td>\n",
       "    </tr>\n",
       "  </tbody>\n",
       "</table>\n",
       "<p>1599 rows × 6 columns</p>\n",
       "</div>"
      ],
      "text/plain": [
       "      alcohol  volatile acidity  fixed acidity    pH  artificial_feature_1  \\\n",
       "0         9.4             0.700            7.4  3.51                     5   \n",
       "1         9.8             0.880            7.8  3.20                     1   \n",
       "2         9.8             0.760            7.8  3.26                     4   \n",
       "3         9.8             0.280           11.2  3.16                     2   \n",
       "4         9.4             0.700            7.4  3.51                     5   \n",
       "...       ...               ...            ...   ...                   ...   \n",
       "1594     10.5             0.600            6.2  3.45                     4   \n",
       "1595     11.2             0.550            5.9  3.52                     1   \n",
       "1596     11.0             0.510            6.3  3.42                     4   \n",
       "1597     10.2             0.645            5.9  3.57                     1   \n",
       "1598     11.0             0.310            6.0  3.39                     1   \n",
       "\n",
       "      artificial_feature_2  \n",
       "0                        2  \n",
       "1                        1  \n",
       "2                        1  \n",
       "3                        5  \n",
       "4                        5  \n",
       "...                    ...  \n",
       "1594                     5  \n",
       "1595                     2  \n",
       "1596                     4  \n",
       "1597                     4  \n",
       "1598                     3  \n",
       "\n",
       "[1599 rows x 6 columns]"
      ]
     },
     "execution_count": 57,
     "metadata": {},
     "output_type": "execute_result"
    }
   ],
   "source": [
    "# Set random seed for reproducibility\n",
    "np.random.seed(9)\n",
    "\n",
    "# Initialize the new features\n",
    "selected_columns['artificial_feature_1'] = np.random.randint(1, 6, size=len(selected_columns))\n",
    "selected_columns['artificial_feature_2'] = np.random.randint(1, 6, size=len(selected_columns))\n",
    "\n",
    "selected_columns"
   ]
  },
  {
   "cell_type": "code",
   "execution_count": 58,
   "metadata": {},
   "outputs": [
    {
     "data": {
      "text/plain": [
       "79"
      ]
     },
     "execution_count": 58,
     "metadata": {},
     "output_type": "execute_result"
    }
   ],
   "source": [
    "# Calculate the number of samples\n",
    "num_samples = selected_columns.shape[0]\n",
    "num_samples_to_modify = int(num_samples * 0.05)\n",
    "num_samples_to_modify"
   ]
  },
  {
   "cell_type": "code",
   "execution_count": 59,
   "metadata": {},
   "outputs": [
    {
     "data": {
      "text/plain": [
       "['alcohol',\n",
       " 'volatile acidity',\n",
       " 'fixed acidity',\n",
       " 'pH',\n",
       " 'artificial_feature_1',\n",
       " 'artificial_feature_2']"
      ]
     },
     "execution_count": 59,
     "metadata": {},
     "output_type": "execute_result"
    }
   ],
   "source": [
    "feature_names = selected_columns.columns.tolist()\n",
    "feature_names"
   ]
  },
  {
   "cell_type": "code",
   "execution_count": 60,
   "metadata": {},
   "outputs": [],
   "source": [
    "# Randomly select 5% of the indices for artificial_feature_1\n",
    "indices_feature_1 = np.random.choice(selected_columns.index, size=num_samples_to_modify, replace=False)\n",
    "\n",
    "# Assign a large value to artificial_feature_1 for these indices\n",
    "selected_columns.loc[indices_feature_1, 'artificial_feature_1'] = np.random.randint(10000, 50001, size=len(indices_feature_1))"
   ]
  },
  {
   "cell_type": "code",
   "execution_count": 61,
   "metadata": {},
   "outputs": [],
   "source": [
    "# Randomly select 5% of the indices for artificial_feature_2, ensuring no overlap\n",
    "remaining_indices = np.setdiff1d(selected_columns.index, indices_feature_1)\n",
    "indices_feature_2 = np.random.choice(remaining_indices, size=num_samples_to_modify, replace=False)\n",
    "\n",
    "# Assign a large value to artificial_feature_2 for these indices\n",
    "selected_columns.loc[indices_feature_2, 'artificial_feature_2'] = np.random.randint(10000, 50001, size=len(indices_feature_2))"
   ]
  },
  {
   "cell_type": "code",
   "execution_count": 62,
   "metadata": {},
   "outputs": [
    {
     "data": {
      "text/html": [
       "<div>\n",
       "<style scoped>\n",
       "    .dataframe tbody tr th:only-of-type {\n",
       "        vertical-align: middle;\n",
       "    }\n",
       "\n",
       "    .dataframe tbody tr th {\n",
       "        vertical-align: top;\n",
       "    }\n",
       "\n",
       "    .dataframe thead th {\n",
       "        text-align: right;\n",
       "    }\n",
       "</style>\n",
       "<table border=\"1\" class=\"dataframe\">\n",
       "  <thead>\n",
       "    <tr style=\"text-align: right;\">\n",
       "      <th></th>\n",
       "      <th>alcohol</th>\n",
       "      <th>volatile acidity</th>\n",
       "      <th>fixed acidity</th>\n",
       "      <th>pH</th>\n",
       "      <th>artificial_feature_1</th>\n",
       "      <th>artificial_feature_2</th>\n",
       "    </tr>\n",
       "  </thead>\n",
       "  <tbody>\n",
       "    <tr>\n",
       "      <th>0</th>\n",
       "      <td>9.4</td>\n",
       "      <td>0.700</td>\n",
       "      <td>7.4</td>\n",
       "      <td>3.51</td>\n",
       "      <td>5</td>\n",
       "      <td>2</td>\n",
       "    </tr>\n",
       "    <tr>\n",
       "      <th>1</th>\n",
       "      <td>9.8</td>\n",
       "      <td>0.880</td>\n",
       "      <td>7.8</td>\n",
       "      <td>3.20</td>\n",
       "      <td>1</td>\n",
       "      <td>1</td>\n",
       "    </tr>\n",
       "    <tr>\n",
       "      <th>2</th>\n",
       "      <td>9.8</td>\n",
       "      <td>0.760</td>\n",
       "      <td>7.8</td>\n",
       "      <td>3.26</td>\n",
       "      <td>4</td>\n",
       "      <td>1</td>\n",
       "    </tr>\n",
       "    <tr>\n",
       "      <th>3</th>\n",
       "      <td>9.8</td>\n",
       "      <td>0.280</td>\n",
       "      <td>11.2</td>\n",
       "      <td>3.16</td>\n",
       "      <td>2</td>\n",
       "      <td>5</td>\n",
       "    </tr>\n",
       "    <tr>\n",
       "      <th>4</th>\n",
       "      <td>9.4</td>\n",
       "      <td>0.700</td>\n",
       "      <td>7.4</td>\n",
       "      <td>3.51</td>\n",
       "      <td>5</td>\n",
       "      <td>5</td>\n",
       "    </tr>\n",
       "    <tr>\n",
       "      <th>...</th>\n",
       "      <td>...</td>\n",
       "      <td>...</td>\n",
       "      <td>...</td>\n",
       "      <td>...</td>\n",
       "      <td>...</td>\n",
       "      <td>...</td>\n",
       "    </tr>\n",
       "    <tr>\n",
       "      <th>1594</th>\n",
       "      <td>10.5</td>\n",
       "      <td>0.600</td>\n",
       "      <td>6.2</td>\n",
       "      <td>3.45</td>\n",
       "      <td>4</td>\n",
       "      <td>46495</td>\n",
       "    </tr>\n",
       "    <tr>\n",
       "      <th>1595</th>\n",
       "      <td>11.2</td>\n",
       "      <td>0.550</td>\n",
       "      <td>5.9</td>\n",
       "      <td>3.52</td>\n",
       "      <td>1</td>\n",
       "      <td>2</td>\n",
       "    </tr>\n",
       "    <tr>\n",
       "      <th>1596</th>\n",
       "      <td>11.0</td>\n",
       "      <td>0.510</td>\n",
       "      <td>6.3</td>\n",
       "      <td>3.42</td>\n",
       "      <td>4</td>\n",
       "      <td>4</td>\n",
       "    </tr>\n",
       "    <tr>\n",
       "      <th>1597</th>\n",
       "      <td>10.2</td>\n",
       "      <td>0.645</td>\n",
       "      <td>5.9</td>\n",
       "      <td>3.57</td>\n",
       "      <td>1</td>\n",
       "      <td>4</td>\n",
       "    </tr>\n",
       "    <tr>\n",
       "      <th>1598</th>\n",
       "      <td>11.0</td>\n",
       "      <td>0.310</td>\n",
       "      <td>6.0</td>\n",
       "      <td>3.39</td>\n",
       "      <td>1</td>\n",
       "      <td>32892</td>\n",
       "    </tr>\n",
       "  </tbody>\n",
       "</table>\n",
       "<p>1599 rows × 6 columns</p>\n",
       "</div>"
      ],
      "text/plain": [
       "      alcohol  volatile acidity  fixed acidity    pH  artificial_feature_1  \\\n",
       "0         9.4             0.700            7.4  3.51                     5   \n",
       "1         9.8             0.880            7.8  3.20                     1   \n",
       "2         9.8             0.760            7.8  3.26                     4   \n",
       "3         9.8             0.280           11.2  3.16                     2   \n",
       "4         9.4             0.700            7.4  3.51                     5   \n",
       "...       ...               ...            ...   ...                   ...   \n",
       "1594     10.5             0.600            6.2  3.45                     4   \n",
       "1595     11.2             0.550            5.9  3.52                     1   \n",
       "1596     11.0             0.510            6.3  3.42                     4   \n",
       "1597     10.2             0.645            5.9  3.57                     1   \n",
       "1598     11.0             0.310            6.0  3.39                     1   \n",
       "\n",
       "      artificial_feature_2  \n",
       "0                        2  \n",
       "1                        1  \n",
       "2                        1  \n",
       "3                        5  \n",
       "4                        5  \n",
       "...                    ...  \n",
       "1594                 46495  \n",
       "1595                     2  \n",
       "1596                     4  \n",
       "1597                     4  \n",
       "1598                 32892  \n",
       "\n",
       "[1599 rows x 6 columns]"
      ]
     },
     "execution_count": 62,
     "metadata": {},
     "output_type": "execute_result"
    }
   ],
   "source": [
    "selected_columns"
   ]
  },
  {
   "cell_type": "code",
   "execution_count": 63,
   "metadata": {},
   "outputs": [
    {
     "data": {
      "text/plain": [
       "79"
      ]
     },
     "execution_count": 63,
     "metadata": {},
     "output_type": "execute_result"
    }
   ],
   "source": [
    "non_zero_count_feature_1 = (selected_columns['artificial_feature_1'] > 5).sum()\n",
    "non_zero_count_feature_1"
   ]
  },
  {
   "cell_type": "code",
   "execution_count": 64,
   "metadata": {},
   "outputs": [
    {
     "data": {
      "text/plain": [
       "79"
      ]
     },
     "execution_count": 64,
     "metadata": {},
     "output_type": "execute_result"
    }
   ],
   "source": [
    "non_zero_count_feature_2 = (selected_columns['artificial_feature_2'] > 5).sum()\n",
    "non_zero_count_feature_2"
   ]
  },
  {
   "cell_type": "code",
   "execution_count": 65,
   "metadata": {},
   "outputs": [],
   "source": [
    "x_data = torch.tensor(selected_columns.values)"
   ]
  },
  {
   "cell_type": "code",
   "execution_count": 66,
   "metadata": {},
   "outputs": [
    {
     "data": {
      "text/plain": [
       "torch.Size([1599, 6])"
      ]
     },
     "execution_count": 66,
     "metadata": {},
     "output_type": "execute_result"
    }
   ],
   "source": [
    "x_data.shape"
   ]
  },
  {
   "cell_type": "code",
   "execution_count": 67,
   "metadata": {},
   "outputs": [],
   "source": [
    "classifier = OneClassSVMClassifier(x_data, nu=0.14, gamma=0.3, num_inducing_points=x_data.shape[0])"
   ]
  },
  {
   "cell_type": "code",
   "execution_count": 68,
   "metadata": {},
   "outputs": [
    {
     "name": "stdout",
     "output_type": "stream",
     "text": [
      "[0.99999948 0.99999236 0.99999998 0.99999998 0.99999989 0.99999998\n",
      " 0.99999998 0.99999922 0.99999984 0.99999998 0.64910607 0.99999998\n",
      " 0.99999998 0.99999998 0.99999998 0.99999855 0.57406349 0.99999963\n",
      " 0.99999998 0.99998765 0.99999998 0.22619903 0.99999981 0.99999991\n",
      " 0.99999998 0.99999998 0.99999998 0.99999998 0.99999998 0.99999998\n",
      " 0.99999998 0.99999998 0.99999998 0.99999998 0.99999998 0.99999633\n",
      " 0.99999994 0.99999998 0.99999998 0.99999998 0.99999998 0.99999998\n",
      " 0.99999929 0.99999998 0.99999998 0.99999998 0.99999998 0.99999998\n",
      " 0.99999998 0.99999816 0.99999998 0.99999961 0.99999988 0.9999999\n",
      " 0.27960055 0.89842426 0.99999568 0.99999998 0.99999998 0.99999998\n",
      " 0.99999899 0.99999998 0.99999998 0.99999998 0.99999998 0.99999998\n",
      " 0.99999854 0.99999998 0.99999991 0.99999931 0.99999969 0.99999625\n",
      " 0.99999596 0.99691854 0.99999998 0.99999979 0.99999998 0.99999998\n",
      " 0.99999998 0.99999998 0.9999976  0.99999998 0.99999998 0.99999991\n",
      " 0.6170585  0.99999998 0.99999991 0.99999993 0.99999982 0.99999987\n",
      " 0.99999998 0.99999998 0.99999974 0.99999998 0.99999998 0.99999998\n",
      " 0.99999956 0.99999984 0.99999998 0.99999998 0.99999998 0.99999998\n",
      " 0.99999997 0.99999998 0.99999998 0.99999998 0.79414942 0.99999998\n",
      " 0.99999998 0.99999998 0.99999948 0.99999998 0.99999998 0.99999998\n",
      " 0.99999998 0.99999998 0.99999998 0.99999998 0.99999998 0.99999972\n",
      " 0.99999992 0.99999998 0.99999998 0.99999998 0.6896286  0.99999998\n",
      " 0.99999998 0.99999998 0.99999998 0.99999998 0.99999998 0.99999998\n",
      " 0.99999998 0.99999998 0.98698958 0.99999998 0.99999998 0.99999998\n",
      " 0.99999998 0.99999998 0.99999998 0.99999998 0.99999977 0.99999998\n",
      " 0.99999998 0.99999855 0.99999998 0.99999998 0.6317512  0.99999998\n",
      " 0.99999704 0.99999998 0.99999998 0.99999998 0.99999998 0.99999998\n",
      " 0.99999998 0.99999998 0.99999998 0.99999998 0.99999898 0.99999998\n",
      " 0.99999998 0.99999984 0.99999998 0.99999998 0.99999998 0.99999998\n",
      " 0.99999998 0.37079128 0.99999998 0.99999998 0.99999998 0.99999982\n",
      " 0.99999998 0.99999998 0.99999998 0.65306552 0.99999998 0.66555874\n",
      " 0.99999998 0.99999998 0.99999998 0.19664347 0.99999898 0.99999998\n",
      " 0.99999998 0.99999998 0.99999998 0.99999998 0.99999998 0.99999998\n",
      " 0.99999998 0.99999998 0.99999998 0.99999998 0.99999998 0.99999998\n",
      " 0.99999998 0.99999998 0.99999897 0.99999998 0.99999998 0.99999998\n",
      " 0.99999998 0.62997059 0.99999998 0.99999998 0.99999932 0.99999963\n",
      " 0.99999985 0.99999788 0.99999998 0.99999998 0.99999998 0.99998928\n",
      " 0.99999998 0.99999998 0.99999998 0.99999445 0.99999931 0.99999998\n",
      " 0.99999998 0.99999998 0.99999998 0.9999986  0.99999998 0.99999773\n",
      " 0.99999998 0.99999998]\n",
      "[  12   18   30   31   34   37   46   48   49   50   51   55   59   61\n",
      "   63   89   94   95   97  102  125  131  142  144  147  162  166  167\n",
      "  168  177  186  191  198  200  208  241  243  244  248  249  257  277\n",
      "  278  288  290  299  307  314  316  330  336  338  347  353  374  378\n",
      "  381  389  396  404  409  415  420  424  427  429  433  437  442  444\n",
      "  459  464  467  474  477  484  487  494  497  498  500  501  543  544\n",
      "  545  554  555  557  559  564  568  578  581  588  593  597  601  603\n",
      "  611  614  620  644  652  653  657  663  667  669  673  690  695  703\n",
      "  714  716  726  727  751  767  806  811  821  827  832  846  849  852\n",
      "  856  859  863  868  869  873  885  887  889  909  924  933  936  954\n",
      "  967  979  997 1004 1015 1018 1034 1036 1038 1058 1061 1064 1069 1071\n",
      " 1078 1088 1092 1097 1106 1113 1114 1125 1127 1157 1173 1198 1205 1208\n",
      " 1209 1223 1227 1235 1258 1269 1270 1284 1286 1296 1302 1311 1327 1328\n",
      " 1332 1335 1338 1343 1348 1349 1357 1365 1368 1370 1381 1383 1384 1407\n",
      " 1412 1415 1418 1433 1435 1444 1452 1453 1456 1457 1461 1469 1474 1475\n",
      " 1477 1480 1498 1501 1505 1515 1517 1518 1531 1533 1537 1542 1546 1563\n",
      " 1571 1573 1582 1589 1594 1598]\n",
      "[[0.77035204 0.36930259 0.         ... 0.35792403 0.         0.        ]\n",
      " [0.29501189 0.94827274 0.         ... 0.89926679 0.         0.        ]\n",
      " [0.70739036 0.56527662 0.         ... 0.53472322 0.         0.        ]\n",
      " ...\n",
      " [0.50653479 0.26040107 0.         ... 0.28944879 0.         0.        ]\n",
      " [0.2324007  0.47822223 0.         ... 0.54181425 0.         0.        ]\n",
      " [0.         0.         0.         ... 0.         0.         1.        ]]\n"
     ]
    }
   ],
   "source": [
    "decision, y_pred = classifier.fit()"
   ]
  },
  {
   "cell_type": "code",
   "execution_count": 69,
   "metadata": {},
   "outputs": [
    {
     "name": "stdout",
     "output_type": "stream",
     "text": [
      "{1: {'count': 1374, 'percentage': 85.92870544090057}, -1: {'count': 225, 'percentage': 14.071294559099437}}\n"
     ]
    }
   ],
   "source": [
    "counts = {1: np.sum(y_pred == 1), -1: np.sum(y_pred == -1)}\n",
    "total = len(y_pred)\n",
    "percentages = {key: (count / total) * 100 for key, count in counts.items()}\n",
    "\n",
    "results = {key: {\"count\": counts[key], \"percentage\": percentages[key]} for key in counts}\n",
    "\n",
    "print(results)"
   ]
  },
  {
   "cell_type": "code",
   "execution_count": 70,
   "metadata": {},
   "outputs": [
    {
     "data": {
      "text/plain": [
       "[12,\n",
       " 18,\n",
       " 30,\n",
       " 31,\n",
       " 34,\n",
       " 37,\n",
       " 46,\n",
       " 48,\n",
       " 49,\n",
       " 50,\n",
       " 51,\n",
       " 55,\n",
       " 59,\n",
       " 61,\n",
       " 63,\n",
       " 89,\n",
       " 94,\n",
       " 95,\n",
       " 97,\n",
       " 102,\n",
       " 125,\n",
       " 142,\n",
       " 144,\n",
       " 147,\n",
       " 162,\n",
       " 166,\n",
       " 167,\n",
       " 168,\n",
       " 177,\n",
       " 186,\n",
       " 191,\n",
       " 198,\n",
       " 200,\n",
       " 208,\n",
       " 241,\n",
       " 243,\n",
       " 244,\n",
       " 248,\n",
       " 249,\n",
       " 257,\n",
       " 277,\n",
       " 278,\n",
       " 288,\n",
       " 290,\n",
       " 299,\n",
       " 307,\n",
       " 314,\n",
       " 316,\n",
       " 330,\n",
       " 336,\n",
       " 338,\n",
       " 347,\n",
       " 353,\n",
       " 381,\n",
       " 389,\n",
       " 396,\n",
       " 404,\n",
       " 409,\n",
       " 415,\n",
       " 420,\n",
       " 424,\n",
       " 427,\n",
       " 429,\n",
       " 433,\n",
       " 437,\n",
       " 442,\n",
       " 444,\n",
       " 459,\n",
       " 464,\n",
       " 467,\n",
       " 474,\n",
       " 477,\n",
       " 484,\n",
       " 487,\n",
       " 494,\n",
       " 497,\n",
       " 498,\n",
       " 500,\n",
       " 501,\n",
       " 543,\n",
       " 544,\n",
       " 545,\n",
       " 554,\n",
       " 555,\n",
       " 557,\n",
       " 559,\n",
       " 564,\n",
       " 568,\n",
       " 578,\n",
       " 581,\n",
       " 588,\n",
       " 593,\n",
       " 597,\n",
       " 601,\n",
       " 603,\n",
       " 611,\n",
       " 614,\n",
       " 620,\n",
       " 644,\n",
       " 652,\n",
       " 653,\n",
       " 657,\n",
       " 663,\n",
       " 669,\n",
       " 673,\n",
       " 690,\n",
       " 695,\n",
       " 703,\n",
       " 714,\n",
       " 716,\n",
       " 726,\n",
       " 727,\n",
       " 751,\n",
       " 767,\n",
       " 806,\n",
       " 811,\n",
       " 821,\n",
       " 827,\n",
       " 832,\n",
       " 846,\n",
       " 849,\n",
       " 852,\n",
       " 856,\n",
       " 859,\n",
       " 863,\n",
       " 868,\n",
       " 869,\n",
       " 873,\n",
       " 885,\n",
       " 887,\n",
       " 889,\n",
       " 909,\n",
       " 924,\n",
       " 933,\n",
       " 936,\n",
       " 954,\n",
       " 967,\n",
       " 979,\n",
       " 997,\n",
       " 1004,\n",
       " 1015,\n",
       " 1018,\n",
       " 1034,\n",
       " 1036,\n",
       " 1038,\n",
       " 1058,\n",
       " 1061,\n",
       " 1064,\n",
       " 1069,\n",
       " 1071,\n",
       " 1078,\n",
       " 1088,\n",
       " 1092,\n",
       " 1097,\n",
       " 1106,\n",
       " 1113,\n",
       " 1114,\n",
       " 1125,\n",
       " 1127,\n",
       " 1157,\n",
       " 1173,\n",
       " 1198,\n",
       " 1205,\n",
       " 1208,\n",
       " 1209,\n",
       " 1223,\n",
       " 1227,\n",
       " 1235,\n",
       " 1258,\n",
       " 1269,\n",
       " 1270,\n",
       " 1284,\n",
       " 1286,\n",
       " 1296,\n",
       " 1302,\n",
       " 1327,\n",
       " 1328,\n",
       " 1332,\n",
       " 1335,\n",
       " 1338,\n",
       " 1343,\n",
       " 1348,\n",
       " 1349,\n",
       " 1357,\n",
       " 1365,\n",
       " 1368,\n",
       " 1370,\n",
       " 1381,\n",
       " 1383,\n",
       " 1384,\n",
       " 1407,\n",
       " 1412,\n",
       " 1415,\n",
       " 1418,\n",
       " 1433,\n",
       " 1435,\n",
       " 1444,\n",
       " 1452,\n",
       " 1453,\n",
       " 1456,\n",
       " 1457,\n",
       " 1461,\n",
       " 1469,\n",
       " 1474,\n",
       " 1475,\n",
       " 1477,\n",
       " 1480,\n",
       " 1498,\n",
       " 1501,\n",
       " 1505,\n",
       " 1515,\n",
       " 1517,\n",
       " 1518,\n",
       " 1531,\n",
       " 1533,\n",
       " 1537,\n",
       " 1542,\n",
       " 1546,\n",
       " 1563,\n",
       " 1571,\n",
       " 1573,\n",
       " 1582,\n",
       " 1589,\n",
       " 1594,\n",
       " 1598]"
      ]
     },
     "execution_count": 70,
     "metadata": {},
     "output_type": "execute_result"
    }
   ],
   "source": [
    "indices = [i for i, value in enumerate(y_pred) if value == -1]\n",
    "indices"
   ]
  },
  {
   "cell_type": "code",
   "execution_count": 71,
   "metadata": {},
   "outputs": [
    {
     "data": {
      "text/plain": [
       "tensor([[9.9000e+00, 6.1500e-01, 5.6000e+00, 3.5800e+00, 5.0000e+00, 1.0000e+00],\n",
       "        [9.0000e+00, 5.9000e-01, 7.4000e+00, 3.3800e+00, 1.0000e+00, 1.0000e+00],\n",
       "        [1.0100e+01, 6.7500e-01, 6.7000e+00, 3.3500e+00, 2.0000e+00, 2.2162e+04],\n",
       "        ...,\n",
       "        [9.2000e+00, 7.2500e-01, 6.6000e+00, 3.2900e+00, 1.0000e+00, 1.0000e+00],\n",
       "        [1.0500e+01, 6.0000e-01, 6.2000e+00, 3.4500e+00, 4.0000e+00, 4.6495e+04],\n",
       "        [1.1000e+01, 3.1000e-01, 6.0000e+00, 3.3900e+00, 1.0000e+00, 3.2892e+04]],\n",
       "       dtype=torch.float64)"
      ]
     },
     "execution_count": 71,
     "metadata": {},
     "output_type": "execute_result"
    }
   ],
   "source": [
    "outlier_features = x_data[indices]\n",
    "outlier_features"
   ]
  },
  {
   "cell_type": "code",
   "execution_count": 72,
   "metadata": {},
   "outputs": [],
   "source": [
    "# Check if all points in the feature arrays are in the indices array\n",
    "all_in_indices_1 = np.all(np.isin(indices_feature_1, indices))\n",
    "all_in_indices_2 = np.all(np.isin(indices_feature_2, indices))\n",
    "\n",
    "# Find missing indices from the feature arrays\n",
    "missing_indices_1 = indices_feature_1[~np.isin(indices_feature_1, indices)]\n",
    "missing_indices_2 = indices_feature_2[~np.isin(indices_feature_2, indices)]\n",
    "\n",
    "# Calculate the total number of points in the feature arrays\n",
    "total_points_feature_1 = len(indices_feature_1)\n",
    "total_points_feature_2 = len(indices_feature_2)\n",
    "\n",
    "# Calculate the percentage of points covered\n",
    "covered_points_1 = total_points_feature_1 - len(missing_indices_1)\n",
    "covered_points_2 = total_points_feature_2 - len(missing_indices_2)\n",
    "\n",
    "percentage_covered_1 = (covered_points_1 / total_points_feature_1) * 100\n",
    "percentage_covered_2 = (covered_points_2 / total_points_feature_2) * 100"
   ]
  },
  {
   "cell_type": "code",
   "execution_count": 73,
   "metadata": {},
   "outputs": [
    {
     "name": "stdout",
     "output_type": "stream",
     "text": [
      "All indices from Feature 1 are present in the indices array.\n",
      "All indices from Feature 2 are present in the indices array.\n",
      "Percentage of points covered in Feature 1: 100.00%\n",
      "Percentage of points covered in Feature 2: 100.00%\n"
     ]
    }
   ],
   "source": [
    "if all_in_indices_1:\n",
    "    print(\"All indices from Feature 1 are present in the indices array.\")\n",
    "else:\n",
    "    print(f\"Missing indices from Feature 1: {sorted(missing_indices_1)}\")\n",
    "    \n",
    "if all_in_indices_2:\n",
    "    print(\"All indices from Feature 2 are present in the indices array.\")\n",
    "else:\n",
    "    print(f\"Missing indices from Feature 2: {sorted(missing_indices_2)}\")\n",
    "\n",
    "# Print percentage coverage\n",
    "print(f\"Percentage of points covered in Feature 1: {percentage_covered_1:.2f}%\")\n",
    "print(f\"Percentage of points covered in Feature 2: {percentage_covered_2:.2f}%\")"
   ]
  },
  {
   "cell_type": "code",
   "execution_count": 74,
   "metadata": {},
   "outputs": [
    {
     "data": {
      "text/plain": [
       "79"
      ]
     },
     "execution_count": 74,
     "metadata": {},
     "output_type": "execute_result"
    }
   ],
   "source": [
    "common_indices_1 = np.intersect1d(indices_feature_1, indices)\n",
    "len(common_indices_1)"
   ]
  },
  {
   "cell_type": "code",
   "execution_count": 75,
   "metadata": {},
   "outputs": [],
   "source": [
    "from src.explanation_algorithms.OCSVMSHAP import OCSVMSHAP\n",
    "ocsvm_shap = OCSVMSHAP(X=x_data, classifier=classifier)"
   ]
  },
  {
   "cell_type": "code",
   "execution_count": 76,
   "metadata": {},
   "outputs": [
    {
     "name": "stderr",
     "output_type": "stream",
     "text": [
      "divide by zero encountered in log2\n",
      "invalid value encountered in cast\n",
      "invalid value encountered in log2\n",
      "100%|██████████| 63/63 [54:09<00:00, 51.57s/it]\n"
     ]
    }
   ],
   "source": [
    "ocsvm_shap.fit_ocsvmshap(X=x_data, num_coalitions=2**x_data.shape[1])"
   ]
  },
  {
   "cell_type": "markdown",
   "metadata": {},
   "source": [
    "Let us check that for every point in indices_feature_1 has a highest shapley value for artificial_feature_1"
   ]
  },
  {
   "cell_type": "code",
   "execution_count": 77,
   "metadata": {},
   "outputs": [],
   "source": [
    "from src.utils.visualisation.deterministic_values import summary_plot,bar_plot\n",
    "mean_stochastic_shapley_values = ocsvm_shap.return_deterministic_shapley_values()"
   ]
  },
  {
   "cell_type": "code",
   "execution_count": 78,
   "metadata": {},
   "outputs": [],
   "source": [
    "mean_stochastic_shapley_values = mean_stochastic_shapley_values.T"
   ]
  },
  {
   "cell_type": "code",
   "execution_count": 79,
   "metadata": {},
   "outputs": [
    {
     "data": {
      "text/plain": [
       "100.0"
      ]
     },
     "execution_count": 79,
     "metadata": {},
     "output_type": "execute_result"
    }
   ],
   "source": [
    "correct = 0\n",
    "wrong_indices = []\n",
    "\n",
    "for idx in common_indices_1:\n",
    "    row = mean_stochastic_shapley_values[idx]\n",
    "    max_index = np.argmax(np.abs(row), axis=0)\n",
    "    # print(max_index)\n",
    "    if max_index == 4:\n",
    "        correct = correct+1\n",
    "    else:\n",
    "        wrong_indices.append((idx, max_index))\n",
    "\n",
    "# The percentage of correct feature selected is\n",
    "percentage_1 = correct/len(common_indices_1) * 100\n",
    "percentage_1"
   ]
  },
  {
   "cell_type": "markdown",
   "metadata": {},
   "source": [
    "artificial_feature_1 has the highest shapley value for all these points"
   ]
  },
  {
   "cell_type": "code",
   "execution_count": 80,
   "metadata": {},
   "outputs": [
    {
     "data": {
      "text/plain": [
       "79"
      ]
     },
     "execution_count": 80,
     "metadata": {},
     "output_type": "execute_result"
    }
   ],
   "source": [
    "common_indices_2 = np.intersect1d(indices_feature_2, indices)\n",
    "len(common_indices_2)"
   ]
  },
  {
   "cell_type": "code",
   "execution_count": 81,
   "metadata": {},
   "outputs": [
    {
     "data": {
      "text/plain": [
       "100.0"
      ]
     },
     "execution_count": 81,
     "metadata": {},
     "output_type": "execute_result"
    }
   ],
   "source": [
    "correct = 0\n",
    "wrong_indices = []\n",
    "\n",
    "for idx in common_indices_2:\n",
    "    row = mean_stochastic_shapley_values[idx]\n",
    "    max_index = np.argmax(np.abs(row), axis=0)\n",
    "    # print(max_index)\n",
    "    if max_index == 5:\n",
    "        correct = correct+1\n",
    "    else:\n",
    "        wrong_indices.append((idx, max_index))\n",
    "\n",
    "# The percentage of correct feature selected is\n",
    "percentage_2 = correct/len(common_indices_2) * 100\n",
    "percentage_2"
   ]
  },
  {
   "cell_type": "markdown",
   "metadata": {},
   "source": [
    "Again all the points have highest shapley value for artificial_feature_2 feature"
   ]
  },
  {
   "cell_type": "code",
   "execution_count": 82,
   "metadata": {},
   "outputs": [
    {
     "data": {
      "image/png": "[encoded data removed]",
      "text/plain": [
       "<Figure size 1200x600 with 2 Axes>"
      ]
     },
     "metadata": {},
     "output_type": "display_data"
    }
   ],
   "source": [
    "summed_shapley_values_1 = np.zeros(6, dtype='float32')\n",
    "summed_shapley_values_2 = np.zeros(6, dtype='float32')\n",
    "\n",
    "for i in indices_feature_1:\n",
    "    summed_shapley_values_1 = mean_stochastic_shapley_values[i] + summed_shapley_values_1\n",
    "for i in indices_feature_2: \n",
    "    summed_shapley_values_2 = mean_stochastic_shapley_values[i] + summed_shapley_values_2\n",
    "\n",
    "fig, ax = plt.subplots(1, 2, figsize=(12, 6))\n",
    "\n",
    "for i, value in enumerate(summed_shapley_values_1):\n",
    "    color = 'blue' if value >= 0 else 'red'  \n",
    "    ax[0].bar(i, value, color=color, edgecolor='black')  \n",
    "ax[0].set_xticks(range(6)), ax[0].set_xticklabels(feature_names, rotation=45)\n",
    "ax[0].set_title('Summed Shapley Values (Set 1)')\n",
    "ax[0].set_xlabel('Feature'), ax[0].set_ylabel('Summed Shapley Value')\n",
    "ax[0].grid(True, axis='y')\n",
    "\n",
    "for i, value in enumerate(summed_shapley_values_2):\n",
    "    color = 'blue' if value >= 0 else 'red'  \n",
    "    ax[1].bar(i, value, color=color, edgecolor='black')  \n",
    "ax[1].set_xticks(range(6)), ax[1].set_xticklabels(feature_names, rotation=45)\n",
    "ax[1].set_title('Summed Shapley Values (Set 2)')\n",
    "ax[1].set_xlabel('Feature'), ax[1].set_ylabel('Summed Shapley Value')\n",
    "ax[1].grid(True, axis='y')\n",
    "plt.tight_layout()\n",
    "plt.show()"
   ]
  },
  {
   "cell_type": "code",
   "execution_count": 83,
   "metadata": {},
   "outputs": [
    {
     "data": {
      "image/png": "[encoded data removed]",
      "text/plain": [
       "<Figure size 640x480 with 1 Axes>"
      ]
     },
     "metadata": {},
     "output_type": "display_data"
    }
   ],
   "source": [
    "other_outliers = list(set(indices).difference(set(indices_feature_1).union(set(indices_feature_2))))\n",
    "other_outliers\n",
    "\n",
    "summed_shapley_values_other = np.zeros(6, dtype='float32')\n",
    "\n",
    "for i in other_outliers:\n",
    "    summed_shapley_values_other = mean_stochastic_shapley_values[i] + summed_shapley_values_other\n",
    "\n",
    "for i, value in enumerate(summed_shapley_values_other):\n",
    "    color = 'blue' if value >= 0 else 'red' \n",
    "    plt.bar(i, value, color=color, edgecolor='black')  #\n",
    "\n",
    "plt.xticks(range(6), feature_names)\n",
    "plt.xticks(rotation=45)  \n",
    "plt.title('Summed Shapley Values for Features across other outliers')\n",
    "plt.xlabel('Feature')\n",
    "plt.ylabel('Summed Shapley Value')\n",
    "plt.grid(True, axis='y')\n",
    "plt.show()"
   ]
  }
 ],
 "metadata": {
  "kernelspec": {
   "display_name": "pytorch",
   "language": "python",
   "name": "python3"
  },
  "language_info": {
   "codemirror_mode": {
    "name": "ipython",
    "version": 3
   },
   "file_extension": ".py",
   "mimetype": "text/x-python",
   "name": "python",
   "nbconvert_exporter": "python",
   "pygments_lexer": "ipython3",
   "version": "3.11.5"
  }
 },
 "nbformat": 4,
 "nbformat_minor": 2
}
