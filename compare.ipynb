{
 "cells": [
  {
   "cell_type": "code",
   "execution_count": 1,
   "metadata": {},
   "outputs": [],
   "source": [
    "import numpy as np\n",
    "import pandas as pd\n",
    "from sklearn.preprocessing import StandardScaler"
   ]
  },
  {
   "cell_type": "code",
   "execution_count": 2,
   "metadata": {},
   "outputs": [],
   "source": [
    "# Set seed for reproducibility\n",
    "np.random.seed(1)\n",
    "\n",
    "# Define dataset parameters\n",
    "num_samples = 10000\n",
    "num_features = 20\n",
    "outlier_fraction = 0.01\n",
    "num_outliers = int(num_samples * outlier_fraction)\n",
    "num_inliers = num_samples - num_outliers\n",
    "\n",
    "# Generate inliers (99% of data)\n",
    "inliers = np.random.normal(loc=1, scale=0.01, size=(num_inliers, num_features))\n",
    "\n",
    "# Generate outliers (1% of data)\n",
    "outliers = np.random.normal(loc=1, scale=0.01, size=(num_outliers, num_features))\n",
    "outliers[:, :5] = np.random.normal(loc=0, scale=0.01, size=(num_outliers, 5))  # First 5 features differ\n",
    "\n",
    "# Combine datasets\n",
    "X = np.vstack((inliers, outliers))\n",
    "\n",
    "# Create DataFrame\n",
    "columns = [f'feature_{i+1}' for i in range(num_features)]\n",
    "df = pd.DataFrame(X, columns=columns)\n"
   ]
  },
  {
   "cell_type": "code",
   "execution_count": 3,
   "metadata": {},
   "outputs": [],
   "source": [
    "X_scaled = df.values"
   ]
  },
  {
   "cell_type": "code",
   "execution_count": 4,
   "metadata": {},
   "outputs": [],
   "source": [
    "# scaler = StandardScaler()\n",
    "# X_scaled = scaler.fit_transform(X_scaled)"
   ]
  },
  {
   "cell_type": "code",
   "execution_count": 5,
   "metadata": {},
   "outputs": [
    {
     "data": {
      "text/plain": [
       "array([[ 1.01624345e+00,  9.93882436e-01,  9.94718282e-01, ...,\n",
       "         9.91221416e-01,  1.00042214e+00,  1.00582815e+00],\n",
       "       [ 9.88993808e-01,  1.01144724e+00,  1.00901591e+00, ...,\n",
       "         1.00234416e+00,  1.01659802e+00,  1.00742044e+00],\n",
       "       [ 9.98081644e-01,  9.91123710e-01,  9.92528417e-01, ...,\n",
       "         1.00931102e+00,  1.00285587e+00,  1.00885141e+00],\n",
       "       ...,\n",
       "       [-8.54773162e-03,  6.78936906e-03,  3.67985952e-03, ...,\n",
       "         9.95463913e-01,  9.88762935e-01,  1.01961538e+00],\n",
       "       [ 7.58047728e-04, -1.84857161e-02,  2.17033126e-03, ...,\n",
       "         9.81376856e-01,  1.00195537e+00,  1.01574659e+00],\n",
       "       [-4.19743244e-02,  7.49750240e-03, -8.17512388e-03, ...,\n",
       "         1.00833637e+00,  1.00003734e+00,  1.00772198e+00]],\n",
       "      shape=(10000, 20))"
      ]
     },
     "execution_count": 5,
     "metadata": {},
     "output_type": "execute_result"
    }
   ],
   "source": [
    "X_scaled"
   ]
  },
  {
   "cell_type": "code",
   "execution_count": null,
   "metadata": {},
   "outputs": [],
   "source": [
    "from src.ocsvm.OneClassSVMClassifier import OneClassSVMClassifier\n",
    "classifier = OneClassSVMClassifier(X_scaled, nu=0.01)"
   ]
  },
  {
   "cell_type": "code",
   "execution_count": 7,
   "metadata": {},
   "outputs": [
    {
     "name": "stdout",
     "output_type": "stream",
     "text": [
      "[[1.         0.36516658 0.35733592 ... 0.         0.         0.        ]\n",
      " [0.36516658 1.         0.4919899  ... 0.         0.         0.        ]\n",
      " [0.35733592 0.4919899  1.         ... 0.         0.         0.        ]\n",
      " ...\n",
      " [0.         0.         0.         ... 1.         0.25615484 0.36096389]\n",
      " [0.         0.         0.         ... 0.25615484 1.         0.17111748]\n",
      " [0.         0.         0.         ... 0.36096389 0.17111748 1.        ]]\n",
      "[0.99999926 0.99999979 0.99999926 ... 0.99999997 0.99999997 0.99999997]\n",
      "[  16   20   28 ... 9997 9998 9999]\n",
      "197.91139906357995\n"
     ]
    }
   ],
   "source": [
    "decision, y_pred = classifier.fit()"
   ]
  },
  {
   "cell_type": "code",
   "execution_count": 8,
   "metadata": {},
   "outputs": [
    {
     "name": "stdout",
     "output_type": "stream",
     "text": [
      "{1: {'count': np.int64(9000), 'percentage': np.float64(90.0)}, -1: {'count': np.int64(1000), 'percentage': np.float64(10.0)}}\n"
     ]
    }
   ],
   "source": [
    "counts = {1: np.sum(y_pred == 1), -1: np.sum(y_pred == -1)}\n",
    "total = len(y_pred)\n",
    "percentages = {key: (count / total) * 100 for key, count in counts.items()}\n",
    "\n",
    "results = {key: {\"count\": counts[key], \"percentage\": percentages[key]} for key in counts}\n",
    "\n",
    "print(results)"
   ]
  },
  {
   "cell_type": "code",
   "execution_count": 9,
   "metadata": {},
   "outputs": [
    {
     "data": {
      "text/plain": [
       "np.float64(257.712765528199)"
      ]
     },
     "execution_count": 9,
     "metadata": {},
     "output_type": "execute_result"
    }
   ],
   "source": [
    "classifier.model.gamma"
   ]
  },
  {
   "cell_type": "code",
   "execution_count": 10,
   "metadata": {},
   "outputs": [
    {
     "data": {
      "text/plain": [
       "True"
      ]
     },
     "execution_count": 10,
     "metadata": {},
     "output_type": "execute_result"
    }
   ],
   "source": [
    "all(x < 0 for x in decision[-100:])"
   ]
  },
  {
   "cell_type": "code",
   "execution_count": 11,
   "metadata": {},
   "outputs": [
    {
     "data": {
      "text/plain": [
       "array([  22.90058182,   88.96113489,   81.70518473, ..., -159.29157529,\n",
       "       -166.48646347, -165.59361314], shape=(10000,))"
      ]
     },
     "execution_count": 11,
     "metadata": {},
     "output_type": "execute_result"
    }
   ],
   "source": [
    "decision"
   ]
  },
  {
   "cell_type": "code",
   "execution_count": 12,
   "metadata": {},
   "outputs": [
    {
     "name": "stdout",
     "output_type": "stream",
     "text": [
      "[16, 20, 28, 36, 50, 69, 73, 79, 83, 84, 85, 111, 119, 141, 162, 171, 193, 195, 197, 205, 211, 215, 220, 228, 262, 277, 295, 316, 325, 332, 351, 356, 363, 368, 400, 408, 410, 415, 420, 421, 427, 430, 431, 434, 477, 496, 523, 553, 572, 585, 591, 597, 598, 606, 612, 620, 645, 646, 651, 657, 663, 680, 694, 703, 710, 715, 716, 731, 746, 747, 763, 765, 770, 771, 774, 822, 840, 842, 853, 857, 865, 871, 889, 893, 927, 948, 958, 964, 974, 981, 988, 990, 996, 1002, 1004, 1009, 1011, 1017, 1035, 1044, 1056, 1062, 1063, 1074, 1088, 1123, 1151, 1155, 1166, 1196, 1208, 1215, 1220, 1227, 1230, 1236, 1245, 1248, 1253, 1254, 1257, 1268, 1275, 1298, 1310, 1311, 1329, 1335, 1355, 1359, 1398, 1417, 1429, 1431, 1448, 1454, 1458, 1463, 1466, 1477, 1496, 1502, 1504, 1507, 1516, 1528, 1534, 1581, 1605, 1608, 1611, 1621, 1622, 1626, 1647, 1649, 1658, 1663, 1664, 1673, 1690, 1728, 1732, 1736, 1765, 1770, 1772, 1778, 1779, 1780, 1787, 1803, 1805, 1827, 1828, 1829, 1831, 1837, 1845, 1859, 1887, 1900, 1908, 1931, 1935, 1943, 1950, 1977, 1981, 1993, 2015, 2017, 2049, 2055, 2056, 2070, 2074, 2082, 2086, 2095, 2121, 2131, 2134, 2135, 2143, 2156, 2157, 2158, 2163, 2170, 2181, 2227, 2233, 2236, 2269, 2272, 2280, 2285, 2293, 2304, 2313, 2315, 2320, 2329, 2341, 2342, 2347, 2349, 2369, 2373, 2381, 2395, 2413, 2426, 2427, 2430, 2433, 2437, 2465, 2488, 2502, 2508, 2518, 2519, 2521, 2524, 2540, 2563, 2570, 2582, 2585, 2589, 2624, 2642, 2645, 2691, 2697, 2724, 2731, 2734, 2736, 2740, 2745, 2754, 2764, 2766, 2767, 2769, 2770, 2775, 2792, 2796, 2816, 2831, 2862, 2865, 2873, 2882, 2894, 2915, 2949, 2959, 2976, 2992, 2995, 3000, 3022, 3024, 3030, 3032, 3052, 3057, 3065, 3077, 3078, 3090, 3101, 3131, 3134, 3142, 3184, 3185, 3211, 3216, 3221, 3240, 3248, 3251, 3253, 3257, 3260, 3261, 3285, 3319, 3335, 3340, 3350, 3355, 3360, 3373, 3376, 3380, 3398, 3400, 3401, 3431, 3435, 3442, 3449, 3459, 3462, 3463, 3480, 3512, 3514, 3528, 3545, 3549, 3564, 3577, 3586, 3609, 3610, 3619, 3659, 3669, 3687, 3693, 3696, 3713, 3718, 3746, 3748, 3755, 3768, 3772, 3779, 3794, 3795, 3800, 3819, 3822, 3824, 3833, 3850, 3875, 3881, 3882, 3885, 3892, 3899, 3906, 3932, 3958, 3967, 3978, 3980, 3994, 4001, 4004, 4017, 4028, 4057, 4070, 4094, 4095, 4101, 4104, 4128, 4140, 4143, 4149, 4174, 4175, 4193, 4217, 4221, 4230, 4231, 4241, 4244, 4280, 4284, 4301, 4310, 4316, 4327, 4360, 4372, 4383, 4398, 4403, 4406, 4412, 4421, 4430, 4448, 4460, 4468, 4475, 4476, 4483, 4492, 4510, 4530, 4538, 4539, 4562, 4569, 4582, 4590, 4600, 4632, 4634, 4639, 4649, 4654, 4658, 4664, 4667, 4669, 4671, 4672, 4673, 4678, 4679, 4766, 4769, 4772, 4778, 4780, 4795, 4823, 4830, 4836, 4839, 4844, 4852, 4860, 4912, 4913, 4917, 4939, 4952, 4968, 4988, 4989, 4999, 5014, 5036, 5046, 5051, 5055, 5062, 5063, 5068, 5069, 5070, 5071, 5072, 5077, 5089, 5128, 5134, 5145, 5148, 5150, 5159, 5192, 5196, 5197, 5206, 5210, 5217, 5222, 5261, 5275, 5302, 5305, 5313, 5316, 5338, 5340, 5348, 5362, 5364, 5365, 5384, 5391, 5399, 5402, 5416, 5426, 5429, 5435, 5458, 5486, 5496, 5498, 5502, 5508, 5511, 5526, 5531, 5539, 5547, 5556, 5563, 5571, 5589, 5600, 5616, 5631, 5633, 5641, 5651, 5675, 5679, 5683, 5713, 5714, 5722, 5736, 5763, 5768, 5773, 5798, 5814, 5816, 5828, 5836, 5849, 5861, 5862, 5864, 5870, 5872, 5875, 5888, 5906, 5919, 5935, 5945, 5965, 5982, 5995, 5999, 6004, 6030, 6035, 6041, 6044, 6047, 6055, 6073, 6074, 6077, 6094, 6099, 6129, 6136, 6150, 6151, 6161, 6170, 6189, 6192, 6213, 6221, 6225, 6240, 6242, 6261, 6269, 6270, 6284, 6335, 6342, 6369, 6374, 6399, 6405, 6408, 6429, 6440, 6450, 6476, 6491, 6503, 6509, 6515, 6519, 6549, 6558, 6560, 6564, 6571, 6577, 6580, 6599, 6603, 6614, 6640, 6642, 6650, 6664, 6665, 6679, 6683, 6692, 6705, 6711, 6724, 6732, 6736, 6747, 6750, 6760, 6777, 6796, 6797, 6826, 6828, 6833, 6860, 6886, 6892, 6900, 6908, 6919, 6927, 6974, 6975, 6978, 6987, 6995, 6996, 7007, 7014, 7036, 7047, 7074, 7094, 7122, 7127, 7140, 7151, 7152, 7153, 7187, 7205, 7213, 7227, 7232, 7233, 7235, 7242, 7247, 7276, 7293, 7298, 7302, 7305, 7313, 7314, 7318, 7328, 7397, 7413, 7419, 7421, 7436, 7440, 7449, 7465, 7484, 7495, 7499, 7503, 7509, 7511, 7526, 7530, 7552, 7558, 7567, 7569, 7571, 7589, 7590, 7611, 7617, 7628, 7633, 7643, 7659, 7664, 7703, 7733, 7734, 7744, 7778, 7800, 7803, 7807, 7815, 7825, 7826, 7828, 7832, 7833, 7853, 7863, 7890, 7912, 7923, 7948, 7951, 7960, 7970, 7990, 8003, 8005, 8009, 8023, 8027, 8036, 8038, 8056, 8061, 8073, 8077, 8084, 8103, 8133, 8167, 8192, 8197, 8200, 8203, 8205, 8231, 8252, 8306, 8307, 8309, 8317, 8320, 8323, 8327, 8331, 8341, 8354, 8356, 8380, 8387, 8394, 8400, 8401, 8402, 8409, 8426, 8428, 8434, 8443, 8445, 8451, 8471, 8523, 8533, 8538, 8554, 8557, 8566, 8569, 8578, 8589, 8591, 8601, 8603, 8605, 8619, 8656, 8679, 8691, 8697, 8700, 8709, 8723, 8724, 8727, 8728, 8730, 8770, 8775, 8787, 8815, 8862, 8867, 8872, 8877, 8893, 8900, 8902, 8917, 8918, 8935, 8941, 8942, 8960, 8983, 8984, 8986, 8987, 9004, 9018, 9023, 9031, 9049, 9062, 9072, 9077, 9080, 9125, 9171, 9182, 9183, 9217, 9227, 9246, 9254, 9257, 9279, 9285, 9286, 9299, 9301, 9311, 9324, 9348, 9354, 9363, 9366, 9368, 9373, 9385, 9391, 9395, 9421, 9423, 9429, 9432, 9433, 9437, 9444, 9465, 9467, 9492, 9499, 9509, 9568, 9582, 9585, 9602, 9641, 9649, 9654, 9657, 9661, 9673, 9675, 9693, 9710, 9715, 9775, 9782, 9793, 9811, 9838, 9868, 9900, 9901, 9902, 9903, 9904, 9905, 9906, 9907, 9908, 9909, 9910, 9911, 9912, 9913, 9914, 9915, 9916, 9917, 9918, 9919, 9920, 9921, 9922, 9923, 9924, 9925, 9926, 9927, 9928, 9929, 9930, 9931, 9932, 9933, 9934, 9935, 9936, 9937, 9938, 9939, 9940, 9941, 9942, 9943, 9944, 9945, 9946, 9947, 9948, 9949, 9950, 9951, 9952, 9953, 9954, 9955, 9956, 9957, 9958, 9959, 9960, 9961, 9962, 9963, 9964, 9965, 9966, 9967, 9968, 9969, 9970, 9971, 9972, 9973, 9974, 9975, 9976, 9977, 9978, 9979, 9980, 9981, 9982, 9983, 9984, 9985, 9986, 9987, 9988, 9989, 9990, 9991, 9992, 9993, 9994, 9995, 9996, 9997, 9998, 9999]\n"
     ]
    }
   ],
   "source": [
    "indices = [i for i, value in enumerate(y_pred) if value == -1]\n",
    "print(indices)"
   ]
  },
  {
   "cell_type": "code",
   "execution_count": 13,
   "metadata": {},
   "outputs": [],
   "source": [
    "from sklearn.svm import OneClassSVM\n",
    "clf = OneClassSVM(gamma=classifier.model.gamma, nu=0.1)"
   ]
  },
  {
   "cell_type": "code",
   "execution_count": 14,
   "metadata": {},
   "outputs": [
    {
     "data": {
      "text/html": [
       "<style>#sk-container-id-1 {\n",
       "  /* Definition of color scheme common for light and dark mode */\n",
       "  --sklearn-color-text: #000;\n",
       "  --sklearn-color-text-muted: #666;\n",
       "  --sklearn-color-line: gray;\n",
       "  /* Definition of color scheme for unfitted estimators */\n",
       "  --sklearn-color-unfitted-level-0: #fff5e6;\n",
       "  --sklearn-color-unfitted-level-1: #f6e4d2;\n",
       "  --sklearn-color-unfitted-level-2: #ffe0b3;\n",
       "  --sklearn-color-unfitted-level-3: chocolate;\n",
       "  /* Definition of color scheme for fitted estimators */\n",
       "  --sklearn-color-fitted-level-0: #f0f8ff;\n",
       "  --sklearn-color-fitted-level-1: #d4ebff;\n",
       "  --sklearn-color-fitted-level-2: #b3dbfd;\n",
       "  --sklearn-color-fitted-level-3: cornflowerblue;\n",
       "\n",
       "  /* Specific color for light theme */\n",
       "  --sklearn-color-text-on-default-background: var(--sg-text-color, var(--theme-code-foreground, var(--jp-content-font-color1, black)));\n",
       "  --sklearn-color-background: var(--sg-background-color, var(--theme-background, var(--jp-layout-color0, white)));\n",
       "  --sklearn-color-border-box: var(--sg-text-color, var(--theme-code-foreground, var(--jp-content-font-color1, black)));\n",
       "  --sklearn-color-icon: #696969;\n",
       "\n",
       "  @media (prefers-color-scheme: dark) {\n",
       "    /* Redefinition of color scheme for dark theme */\n",
       "    --sklearn-color-text-on-default-background: var(--sg-text-color, var(--theme-code-foreground, var(--jp-content-font-color1, white)));\n",
       "    --sklearn-color-background: var(--sg-background-color, var(--theme-background, var(--jp-layout-color0, #111)));\n",
       "    --sklearn-color-border-box: var(--sg-text-color, var(--theme-code-foreground, var(--jp-content-font-color1, white)));\n",
       "    --sklearn-color-icon: #878787;\n",
       "  }\n",
       "}\n",
       "\n",
       "#sk-container-id-1 {\n",
       "  color: var(--sklearn-color-text);\n",
       "}\n",
       "\n",
       "#sk-container-id-1 pre {\n",
       "  padding: 0;\n",
       "}\n",
       "\n",
       "#sk-container-id-1 input.sk-hidden--visually {\n",
       "  border: 0;\n",
       "  clip: rect(1px 1px 1px 1px);\n",
       "  clip: rect(1px, 1px, 1px, 1px);\n",
       "  height: 1px;\n",
       "  margin: -1px;\n",
       "  overflow: hidden;\n",
       "  padding: 0;\n",
       "  position: absolute;\n",
       "  width: 1px;\n",
       "}\n",
       "\n",
       "#sk-container-id-1 div.sk-dashed-wrapped {\n",
       "  border: 1px dashed var(--sklearn-color-line);\n",
       "  margin: 0 0.4em 0.5em 0.4em;\n",
       "  box-sizing: border-box;\n",
       "  padding-bottom: 0.4em;\n",
       "  background-color: var(--sklearn-color-background);\n",
       "}\n",
       "\n",
       "#sk-container-id-1 div.sk-container {\n",
       "  /* jupyter's `normalize.less` sets `[hidden] { display: none; }`\n",
       "     but bootstrap.min.css set `[hidden] { display: none !important; }`\n",
       "     so we also need the `!important` here to be able to override the\n",
       "     default hidden behavior on the sphinx rendered scikit-learn.org.\n",
       "     See: https://github.com/scikit-learn/scikit-learn/issues/21755 */\n",
       "  display: inline-block !important;\n",
       "  position: relative;\n",
       "}\n",
       "\n",
       "#sk-container-id-1 div.sk-text-repr-fallback {\n",
       "  display: none;\n",
       "}\n",
       "\n",
       "div.sk-parallel-item,\n",
       "div.sk-serial,\n",
       "div.sk-item {\n",
       "  /* draw centered vertical line to link estimators */\n",
       "  background-image: linear-gradient(var(--sklearn-color-text-on-default-background), var(--sklearn-color-text-on-default-background));\n",
       "  background-size: 2px 100%;\n",
       "  background-repeat: no-repeat;\n",
       "  background-position: center center;\n",
       "}\n",
       "\n",
       "/* Parallel-specific style estimator block */\n",
       "\n",
       "#sk-container-id-1 div.sk-parallel-item::after {\n",
       "  content: \"\";\n",
       "  width: 100%;\n",
       "  border-bottom: 2px solid var(--sklearn-color-text-on-default-background);\n",
       "  flex-grow: 1;\n",
       "}\n",
       "\n",
       "#sk-container-id-1 div.sk-parallel {\n",
       "  display: flex;\n",
       "  align-items: stretch;\n",
       "  justify-content: center;\n",
       "  background-color: var(--sklearn-color-background);\n",
       "  position: relative;\n",
       "}\n",
       "\n",
       "#sk-container-id-1 div.sk-parallel-item {\n",
       "  display: flex;\n",
       "  flex-direction: column;\n",
       "}\n",
       "\n",
       "#sk-container-id-1 div.sk-parallel-item:first-child::after {\n",
       "  align-self: flex-end;\n",
       "  width: 50%;\n",
       "}\n",
       "\n",
       "#sk-container-id-1 div.sk-parallel-item:last-child::after {\n",
       "  align-self: flex-start;\n",
       "  width: 50%;\n",
       "}\n",
       "\n",
       "#sk-container-id-1 div.sk-parallel-item:only-child::after {\n",
       "  width: 0;\n",
       "}\n",
       "\n",
       "/* Serial-specific style estimator block */\n",
       "\n",
       "#sk-container-id-1 div.sk-serial {\n",
       "  display: flex;\n",
       "  flex-direction: column;\n",
       "  align-items: center;\n",
       "  background-color: var(--sklearn-color-background);\n",
       "  padding-right: 1em;\n",
       "  padding-left: 1em;\n",
       "}\n",
       "\n",
       "\n",
       "/* Toggleable style: style used for estimator/Pipeline/ColumnTransformer box that is\n",
       "clickable and can be expanded/collapsed.\n",
       "- Pipeline and ColumnTransformer use this feature and define the default style\n",
       "- Estimators will overwrite some part of the style using the `sk-estimator` class\n",
       "*/\n",
       "\n",
       "/* Pipeline and ColumnTransformer style (default) */\n",
       "\n",
       "#sk-container-id-1 div.sk-toggleable {\n",
       "  /* Default theme specific background. It is overwritten whether we have a\n",
       "  specific estimator or a Pipeline/ColumnTransformer */\n",
       "  background-color: var(--sklearn-color-background);\n",
       "}\n",
       "\n",
       "/* Toggleable label */\n",
       "#sk-container-id-1 label.sk-toggleable__label {\n",
       "  cursor: pointer;\n",
       "  display: flex;\n",
       "  width: 100%;\n",
       "  margin-bottom: 0;\n",
       "  padding: 0.5em;\n",
       "  box-sizing: border-box;\n",
       "  text-align: center;\n",
       "  align-items: start;\n",
       "  justify-content: space-between;\n",
       "  gap: 0.5em;\n",
       "}\n",
       "\n",
       "#sk-container-id-1 label.sk-toggleable__label .caption {\n",
       "  font-size: 0.6rem;\n",
       "  font-weight: lighter;\n",
       "  color: var(--sklearn-color-text-muted);\n",
       "}\n",
       "\n",
       "#sk-container-id-1 label.sk-toggleable__label-arrow:before {\n",
       "  /* Arrow on the left of the label */\n",
       "  content: \"▸\";\n",
       "  float: left;\n",
       "  margin-right: 0.25em;\n",
       "  color: var(--sklearn-color-icon);\n",
       "}\n",
       "\n",
       "#sk-container-id-1 label.sk-toggleable__label-arrow:hover:before {\n",
       "  color: var(--sklearn-color-text);\n",
       "}\n",
       "\n",
       "/* Toggleable content - dropdown */\n",
       "\n",
       "#sk-container-id-1 div.sk-toggleable__content {\n",
       "  max-height: 0;\n",
       "  max-width: 0;\n",
       "  overflow: hidden;\n",
       "  text-align: left;\n",
       "  /* unfitted */\n",
       "  background-color: var(--sklearn-color-unfitted-level-0);\n",
       "}\n",
       "\n",
       "#sk-container-id-1 div.sk-toggleable__content.fitted {\n",
       "  /* fitted */\n",
       "  background-color: var(--sklearn-color-fitted-level-0);\n",
       "}\n",
       "\n",
       "#sk-container-id-1 div.sk-toggleable__content pre {\n",
       "  margin: 0.2em;\n",
       "  border-radius: 0.25em;\n",
       "  color: var(--sklearn-color-text);\n",
       "  /* unfitted */\n",
       "  background-color: var(--sklearn-color-unfitted-level-0);\n",
       "}\n",
       "\n",
       "#sk-container-id-1 div.sk-toggleable__content.fitted pre {\n",
       "  /* unfitted */\n",
       "  background-color: var(--sklearn-color-fitted-level-0);\n",
       "}\n",
       "\n",
       "#sk-container-id-1 input.sk-toggleable__control:checked~div.sk-toggleable__content {\n",
       "  /* Expand drop-down */\n",
       "  max-height: 200px;\n",
       "  max-width: 100%;\n",
       "  overflow: auto;\n",
       "}\n",
       "\n",
       "#sk-container-id-1 input.sk-toggleable__control:checked~label.sk-toggleable__label-arrow:before {\n",
       "  content: \"▾\";\n",
       "}\n",
       "\n",
       "/* Pipeline/ColumnTransformer-specific style */\n",
       "\n",
       "#sk-container-id-1 div.sk-label input.sk-toggleable__control:checked~label.sk-toggleable__label {\n",
       "  color: var(--sklearn-color-text);\n",
       "  background-color: var(--sklearn-color-unfitted-level-2);\n",
       "}\n",
       "\n",
       "#sk-container-id-1 div.sk-label.fitted input.sk-toggleable__control:checked~label.sk-toggleable__label {\n",
       "  background-color: var(--sklearn-color-fitted-level-2);\n",
       "}\n",
       "\n",
       "/* Estimator-specific style */\n",
       "\n",
       "/* Colorize estimator box */\n",
       "#sk-container-id-1 div.sk-estimator input.sk-toggleable__control:checked~label.sk-toggleable__label {\n",
       "  /* unfitted */\n",
       "  background-color: var(--sklearn-color-unfitted-level-2);\n",
       "}\n",
       "\n",
       "#sk-container-id-1 div.sk-estimator.fitted input.sk-toggleable__control:checked~label.sk-toggleable__label {\n",
       "  /* fitted */\n",
       "  background-color: var(--sklearn-color-fitted-level-2);\n",
       "}\n",
       "\n",
       "#sk-container-id-1 div.sk-label label.sk-toggleable__label,\n",
       "#sk-container-id-1 div.sk-label label {\n",
       "  /* The background is the default theme color */\n",
       "  color: var(--sklearn-color-text-on-default-background);\n",
       "}\n",
       "\n",
       "/* On hover, darken the color of the background */\n",
       "#sk-container-id-1 div.sk-label:hover label.sk-toggleable__label {\n",
       "  color: var(--sklearn-color-text);\n",
       "  background-color: var(--sklearn-color-unfitted-level-2);\n",
       "}\n",
       "\n",
       "/* Label box, darken color on hover, fitted */\n",
       "#sk-container-id-1 div.sk-label.fitted:hover label.sk-toggleable__label.fitted {\n",
       "  color: var(--sklearn-color-text);\n",
       "  background-color: var(--sklearn-color-fitted-level-2);\n",
       "}\n",
       "\n",
       "/* Estimator label */\n",
       "\n",
       "#sk-container-id-1 div.sk-label label {\n",
       "  font-family: monospace;\n",
       "  font-weight: bold;\n",
       "  display: inline-block;\n",
       "  line-height: 1.2em;\n",
       "}\n",
       "\n",
       "#sk-container-id-1 div.sk-label-container {\n",
       "  text-align: center;\n",
       "}\n",
       "\n",
       "/* Estimator-specific */\n",
       "#sk-container-id-1 div.sk-estimator {\n",
       "  font-family: monospace;\n",
       "  border: 1px dotted var(--sklearn-color-border-box);\n",
       "  border-radius: 0.25em;\n",
       "  box-sizing: border-box;\n",
       "  margin-bottom: 0.5em;\n",
       "  /* unfitted */\n",
       "  background-color: var(--sklearn-color-unfitted-level-0);\n",
       "}\n",
       "\n",
       "#sk-container-id-1 div.sk-estimator.fitted {\n",
       "  /* fitted */\n",
       "  background-color: var(--sklearn-color-fitted-level-0);\n",
       "}\n",
       "\n",
       "/* on hover */\n",
       "#sk-container-id-1 div.sk-estimator:hover {\n",
       "  /* unfitted */\n",
       "  background-color: var(--sklearn-color-unfitted-level-2);\n",
       "}\n",
       "\n",
       "#sk-container-id-1 div.sk-estimator.fitted:hover {\n",
       "  /* fitted */\n",
       "  background-color: var(--sklearn-color-fitted-level-2);\n",
       "}\n",
       "\n",
       "/* Specification for estimator info (e.g. \"i\" and \"?\") */\n",
       "\n",
       "/* Common style for \"i\" and \"?\" */\n",
       "\n",
       ".sk-estimator-doc-link,\n",
       "a:link.sk-estimator-doc-link,\n",
       "a:visited.sk-estimator-doc-link {\n",
       "  float: right;\n",
       "  font-size: smaller;\n",
       "  line-height: 1em;\n",
       "  font-family: monospace;\n",
       "  background-color: var(--sklearn-color-background);\n",
       "  border-radius: 1em;\n",
       "  height: 1em;\n",
       "  width: 1em;\n",
       "  text-decoration: none !important;\n",
       "  margin-left: 0.5em;\n",
       "  text-align: center;\n",
       "  /* unfitted */\n",
       "  border: var(--sklearn-color-unfitted-level-1) 1pt solid;\n",
       "  color: var(--sklearn-color-unfitted-level-1);\n",
       "}\n",
       "\n",
       ".sk-estimator-doc-link.fitted,\n",
       "a:link.sk-estimator-doc-link.fitted,\n",
       "a:visited.sk-estimator-doc-link.fitted {\n",
       "  /* fitted */\n",
       "  border: var(--sklearn-color-fitted-level-1) 1pt solid;\n",
       "  color: var(--sklearn-color-fitted-level-1);\n",
       "}\n",
       "\n",
       "/* On hover */\n",
       "div.sk-estimator:hover .sk-estimator-doc-link:hover,\n",
       ".sk-estimator-doc-link:hover,\n",
       "div.sk-label-container:hover .sk-estimator-doc-link:hover,\n",
       ".sk-estimator-doc-link:hover {\n",
       "  /* unfitted */\n",
       "  background-color: var(--sklearn-color-unfitted-level-3);\n",
       "  color: var(--sklearn-color-background);\n",
       "  text-decoration: none;\n",
       "}\n",
       "\n",
       "div.sk-estimator.fitted:hover .sk-estimator-doc-link.fitted:hover,\n",
       ".sk-estimator-doc-link.fitted:hover,\n",
       "div.sk-label-container:hover .sk-estimator-doc-link.fitted:hover,\n",
       ".sk-estimator-doc-link.fitted:hover {\n",
       "  /* fitted */\n",
       "  background-color: var(--sklearn-color-fitted-level-3);\n",
       "  color: var(--sklearn-color-background);\n",
       "  text-decoration: none;\n",
       "}\n",
       "\n",
       "/* Span, style for the box shown on hovering the info icon */\n",
       ".sk-estimator-doc-link span {\n",
       "  display: none;\n",
       "  z-index: 9999;\n",
       "  position: relative;\n",
       "  font-weight: normal;\n",
       "  right: .2ex;\n",
       "  padding: .5ex;\n",
       "  margin: .5ex;\n",
       "  width: min-content;\n",
       "  min-width: 20ex;\n",
       "  max-width: 50ex;\n",
       "  color: var(--sklearn-color-text);\n",
       "  box-shadow: 2pt 2pt 4pt #999;\n",
       "  /* unfitted */\n",
       "  background: var(--sklearn-color-unfitted-level-0);\n",
       "  border: .5pt solid var(--sklearn-color-unfitted-level-3);\n",
       "}\n",
       "\n",
       ".sk-estimator-doc-link.fitted span {\n",
       "  /* fitted */\n",
       "  background: var(--sklearn-color-fitted-level-0);\n",
       "  border: var(--sklearn-color-fitted-level-3);\n",
       "}\n",
       "\n",
       ".sk-estimator-doc-link:hover span {\n",
       "  display: block;\n",
       "}\n",
       "\n",
       "/* \"?\"-specific style due to the `<a>` HTML tag */\n",
       "\n",
       "#sk-container-id-1 a.estimator_doc_link {\n",
       "  float: right;\n",
       "  font-size: 1rem;\n",
       "  line-height: 1em;\n",
       "  font-family: monospace;\n",
       "  background-color: var(--sklearn-color-background);\n",
       "  border-radius: 1rem;\n",
       "  height: 1rem;\n",
       "  width: 1rem;\n",
       "  text-decoration: none;\n",
       "  /* unfitted */\n",
       "  color: var(--sklearn-color-unfitted-level-1);\n",
       "  border: var(--sklearn-color-unfitted-level-1) 1pt solid;\n",
       "}\n",
       "\n",
       "#sk-container-id-1 a.estimator_doc_link.fitted {\n",
       "  /* fitted */\n",
       "  border: var(--sklearn-color-fitted-level-1) 1pt solid;\n",
       "  color: var(--sklearn-color-fitted-level-1);\n",
       "}\n",
       "\n",
       "/* On hover */\n",
       "#sk-container-id-1 a.estimator_doc_link:hover {\n",
       "  /* unfitted */\n",
       "  background-color: var(--sklearn-color-unfitted-level-3);\n",
       "  color: var(--sklearn-color-background);\n",
       "  text-decoration: none;\n",
       "}\n",
       "\n",
       "#sk-container-id-1 a.estimator_doc_link.fitted:hover {\n",
       "  /* fitted */\n",
       "  background-color: var(--sklearn-color-fitted-level-3);\n",
       "}\n",
       "</style><div id=\"sk-container-id-1\" class=\"sk-top-container\"><div class=\"sk-text-repr-fallback\"><pre>OneClassSVM(gamma=np.float64(257.712765528199), nu=0.1)</pre><b>In a Jupyter environment, please rerun this cell to show the HTML representation or trust the notebook. <br />On GitHub, the HTML representation is unable to render, please try loading this page with nbviewer.org.</b></div><div class=\"sk-container\" hidden><div class=\"sk-item\"><div class=\"sk-estimator fitted sk-toggleable\"><input class=\"sk-toggleable__control sk-hidden--visually\" id=\"sk-estimator-id-1\" type=\"checkbox\" checked><label for=\"sk-estimator-id-1\" class=\"sk-toggleable__label fitted sk-toggleable__label-arrow\"><div><div>OneClassSVM</div></div><div><a class=\"sk-estimator-doc-link fitted\" rel=\"noreferrer\" target=\"_blank\" href=\"https://scikit-learn.org/1.6/modules/generated/sklearn.svm.OneClassSVM.html\">?<span>Documentation for OneClassSVM</span></a><span class=\"sk-estimator-doc-link fitted\">i<span>Fitted</span></span></div></label><div class=\"sk-toggleable__content fitted\"><pre>OneClassSVM(gamma=np.float64(257.712765528199), nu=0.1)</pre></div> </div></div></div></div>"
      ],
      "text/plain": [
       "OneClassSVM(gamma=np.float64(257.712765528199), nu=0.1)"
      ]
     },
     "execution_count": 14,
     "metadata": {},
     "output_type": "execute_result"
    }
   ],
   "source": [
    "clf.fit(X_scaled)"
   ]
  },
  {
   "cell_type": "code",
   "execution_count": 15,
   "metadata": {},
   "outputs": [],
   "source": [
    "y_pred = clf.predict(X_scaled)"
   ]
  },
  {
   "cell_type": "code",
   "execution_count": 16,
   "metadata": {},
   "outputs": [
    {
     "name": "stdout",
     "output_type": "stream",
     "text": [
      "{1: {'count': np.int64(8995), 'percentage': np.float64(89.95)}, -1: {'count': np.int64(1005), 'percentage': np.float64(10.05)}}\n"
     ]
    }
   ],
   "source": [
    "counts = {1: np.sum(y_pred == 1), -1: np.sum(y_pred == -1)}\n",
    "total = len(y_pred)\n",
    "percentages = {key: (count / total) * 100 for key, count in counts.items()}\n",
    "\n",
    "results = {key: {\"count\": counts[key], \"percentage\": percentages[key]} for key in counts}\n",
    "\n",
    "print(results)"
   ]
  },
  {
   "cell_type": "code",
   "execution_count": 17,
   "metadata": {},
   "outputs": [
    {
     "data": {
      "text/plain": [
       "array([ 1,  1,  1, ..., -1, -1, -1], shape=(10000,))"
      ]
     },
     "execution_count": 17,
     "metadata": {},
     "output_type": "execute_result"
    }
   ],
   "source": [
    "y_pred"
   ]
  },
  {
   "cell_type": "code",
   "execution_count": 18,
   "metadata": {},
   "outputs": [
    {
     "name": "stderr",
     "output_type": "stream",
     "text": [
      "/home/swathi/micromamba/envs/py311/lib/python3.11/site-packages/tqdm/auto.py:21: TqdmWarning: IProgress not found. Please update jupyter and ipywidgets. See https://ipywidgets.readthedocs.io/en/stable/user_install.html\n",
      "  from .autonotebook import tqdm as notebook_tqdm\n"
     ]
    }
   ],
   "source": [
    "import shap\n",
    "explainer = shap.KernelExplainer(clf.predict, shap.kmeans(X_scaled, 100))"
   ]
  },
  {
   "cell_type": "code",
   "execution_count": 19,
   "metadata": {},
   "outputs": [
    {
     "name": "stderr",
     "output_type": "stream",
     "text": [
      "100%|██████████| 10000/10000 [1:03:06<00:00,  2.64it/s]\n"
     ]
    }
   ],
   "source": [
    "shap_values = explainer.shap_values(X_scaled, nsamples = 100)"
   ]
  },
  {
   "cell_type": "code",
   "execution_count": 28,
   "metadata": {},
   "outputs": [],
   "source": [
    "import pickle\n",
    "with open(\"shap_values_compare_offmani.pkl\", \"wb\") as f:\n",
    "    pickle.dump(shap_values, f)"
   ]
  },
  {
   "cell_type": "code",
   "execution_count": null,
   "metadata": {},
   "outputs": [],
   "source": [
    "# with open(\"shap_values.pkl\", \"rb\") as f:\n",
    "#     shap_values = pickle.load(f)"
   ]
  },
  {
   "cell_type": "code",
   "execution_count": 20,
   "metadata": {},
   "outputs": [],
   "source": [
    "# shap_values_1 = explainer(X_scaled)"
   ]
  },
  {
   "cell_type": "code",
   "execution_count": 21,
   "metadata": {},
   "outputs": [],
   "source": [
    "shap_subset = shap_values[-10:]  # shape: (n_subset, n_features)\n",
    "X_subset = X_scaled[-10:]"
   ]
  },
  {
   "cell_type": "code",
   "execution_count": 22,
   "metadata": {},
   "outputs": [],
   "source": [
    "from src.utils.visualisation.deterministic_values import global_bar_plot, local_bar_plot\n",
    "mean_abs_shap_values = np.abs(X_subset).mean(axis=0) \n"
   ]
  },
  {
   "cell_type": "code",
   "execution_count": 23,
   "metadata": {},
   "outputs": [
    {
     "data": {
      "text/plain": [
       "array([0.01357939, 0.0079054 , 0.00657474, 0.00598554, 0.00614582,\n",
       "       1.00197485, 0.99995307, 0.99257581, 1.00017613, 0.99817745,\n",
       "       1.00017789, 1.0008461 , 1.00033402, 0.99818223, 0.99955118,\n",
       "       1.00096281, 0.99547324, 0.99797238, 0.99952071, 1.01007226])"
      ]
     },
     "execution_count": 23,
     "metadata": {},
     "output_type": "execute_result"
    }
   ],
   "source": [
    "mean_abs_shap_values"
   ]
  },
  {
   "cell_type": "code",
   "execution_count": 24,
   "metadata": {},
   "outputs": [],
   "source": [
    "# local_bar_plot(shap_values, 99, feature_names = columns)"
   ]
  },
  {
   "cell_type": "code",
   "execution_count": 25,
   "metadata": {},
   "outputs": [
    {
     "data": {
      "image/png": "[encoded data removed]",
      "text/plain": [
       "<Figure size 640x480 with 1 Axes>"
      ]
     },
     "metadata": {},
     "output_type": "display_data"
    }
   ],
   "source": [
    "global_bar_plot(mean_abs_shap_values, feature_names=columns)"
   ]
  },
  {
   "cell_type": "code",
   "execution_count": 26,
   "metadata": {},
   "outputs": [
    {
     "name": "stderr",
     "output_type": "stream",
     "text": [
      "Parallel projections: 100%|██████████| 101/101 [00:00<00:00, 6391.54it/s]\n"
     ]
    }
   ],
   "source": [
    "from src.explanation_algorithms.OCSVMSHAP import OCSVMSHAP\n",
    "ocsvm_shap = OCSVMSHAP(X=X_scaled, classifier=classifier)\n",
    "ocsvm_shap.fit_ocsvmshap(X=X_scaled, num_coalitions=100)"
   ]
  },
  {
   "cell_type": "code",
   "execution_count": null,
   "metadata": {},
   "outputs": [],
   "source": []
  },
  {
   "cell_type": "code",
   "execution_count": 29,
   "metadata": {},
   "outputs": [
    {
     "ename": "_LinAlgError",
     "evalue": "linalg.cholesky: The factorization could not be completed because the input is not positive-definite (the leading minor of order 16 is not positive-definite).",
     "output_type": "error",
     "traceback": [
      "\u001b[31m---------------------------------------------------------------------------\u001b[39m",
      "\u001b[31m_LinAlgError\u001b[39m                              Traceback (most recent call last)",
      "\u001b[36mCell\u001b[39m\u001b[36m \u001b[39m\u001b[32mIn[29]\u001b[39m\u001b[32m, line 2\u001b[39m\n\u001b[32m      1\u001b[39m \u001b[38;5;28;01mfrom\u001b[39;00m\u001b[38;5;250m \u001b[39m\u001b[34;01msrc\u001b[39;00m\u001b[34;01m.\u001b[39;00m\u001b[34;01mutils\u001b[39;00m\u001b[34;01m.\u001b[39;00m\u001b[34;01mvisualisation\u001b[39;00m\u001b[34;01m.\u001b[39;00m\u001b[34;01mdeterministic_values\u001b[39;00m\u001b[38;5;250m \u001b[39m\u001b[38;5;28;01mimport\u001b[39;00m global_bar_plot, local_bar_plot\n\u001b[32m----> \u001b[39m\u001b[32m2\u001b[39m shapley_values = \u001b[43mocsvm_shap\u001b[49m\u001b[43m.\u001b[49m\u001b[43mreturn_deterministic_shapley_values\u001b[49m\u001b[43m(\u001b[49m\u001b[43m)\u001b[49m\n",
      "\u001b[36mFile \u001b[39m\u001b[32m~/OCSVM-SHAP/src/explanation_algorithms/OCSVMSHAP.py:50\u001b[39m, in \u001b[36mOCSVMSHAP.return_deterministic_shapley_values\u001b[39m\u001b[34m(self)\u001b[39m\n\u001b[32m     49\u001b[39m \u001b[38;5;28;01mdef\u001b[39;00m\u001b[38;5;250m \u001b[39m\u001b[34mreturn_deterministic_shapley_values\u001b[39m(\u001b[38;5;28mself\u001b[39m) -> FloatTensor:\n\u001b[32m---> \u001b[39m\u001b[32m50\u001b[39m     \u001b[38;5;28;01mreturn\u001b[39;00m \u001b[43m_solve_weighted_least_square_regression\u001b[49m\u001b[43m(\u001b[49m\u001b[43mSHAP_weights\u001b[49m\u001b[43m=\u001b[49m\u001b[38;5;28;43mself\u001b[39;49m\u001b[43m.\u001b[49m\u001b[43mweights\u001b[49m\u001b[43m,\u001b[49m\n\u001b[32m     51\u001b[39m \u001b[43m                                                        \u001b[49m\u001b[43mcoalitions\u001b[49m\u001b[43m=\u001b[49m\u001b[38;5;28;43mself\u001b[39;49m\u001b[43m.\u001b[49m\u001b[43mcoalitions\u001b[49m\u001b[43m,\u001b[49m\n\u001b[32m     52\u001b[39m \u001b[43m                                                        \u001b[49m\u001b[43mregression_target\u001b[49m\u001b[43m=\u001b[49m\u001b[38;5;28;43mself\u001b[39;49m\u001b[43m.\u001b[49m\u001b[43mmean_stochastic_value_function_evaluations\u001b[49m\n\u001b[32m     53\u001b[39m \u001b[43m                                                        \u001b[49m\u001b[43m)\u001b[49m\n",
      "\u001b[36mFile \u001b[39m\u001b[32m~/OCSVM-SHAP/src/explanation_algorithms/OCSVMSHAP.py:84\u001b[39m, in \u001b[36m_solve_weighted_least_square_regression\u001b[39m\u001b[34m(SHAP_weights, coalitions, regression_target)\u001b[39m\n\u001b[32m     82\u001b[39m weighted_regression_target = regression_target * SHAP_weights\n\u001b[32m     83\u001b[39m ZtWvx = coalitions.t() @ weighted_regression_target\n\u001b[32m---> \u001b[39m\u001b[32m84\u001b[39m L = \u001b[43mtorch\u001b[49m\u001b[43m.\u001b[49m\u001b[43mlinalg\u001b[49m\u001b[43m.\u001b[49m\u001b[43mcholesky\u001b[49m\u001b[43m(\u001b[49m\u001b[43mcoalitions\u001b[49m\u001b[43m.\u001b[49m\u001b[43mt\u001b[49m\u001b[43m(\u001b[49m\u001b[43m)\u001b[49m\u001b[43m \u001b[49m\u001b[43m@\u001b[49m\u001b[43m \u001b[49m\u001b[43m(\u001b[49m\u001b[43mcoalitions\u001b[49m\u001b[43m \u001b[49m\u001b[43m*\u001b[49m\u001b[43m \u001b[49m\u001b[43mSHAP_weights\u001b[49m\u001b[43m)\u001b[49m\u001b[43m)\u001b[49m\n\u001b[32m     86\u001b[39m \u001b[38;5;28;01mreturn\u001b[39;00m torch.cholesky_solve(ZtWvx, L).detach()\n",
      "\u001b[31m_LinAlgError\u001b[39m: linalg.cholesky: The factorization could not be completed because the input is not positive-definite (the leading minor of order 16 is not positive-definite)."
     ]
    }
   ],
   "source": [
    "from src.utils.visualisation.deterministic_values import global_bar_plot, local_bar_plot\n",
    "shapley_values = ocsvm_shap.return_deterministic_shapley_values()"
   ]
  },
  {
   "cell_type": "code",
   "execution_count": null,
   "metadata": {},
   "outputs": [],
   "source": []
  },
  {
   "cell_type": "code",
   "execution_count": null,
   "metadata": {},
   "outputs": [
    {
     "name": "stderr",
     "output_type": "stream",
     "text": [
      "The use of `x.T` on tensors of dimension other than 2 to reverse their shape is deprecated and it will throw an error in a future release. Consider `x.mT` to transpose batches of matrices or `x.permute(*torch.arange(x.ndim - 1, -1, -1))` to reverse the dimensions of a tensor. (Triggered internally at C:\\cb\\pytorch_1000000000000\\work\\aten\\src\\ATen\\native\\TensorShape.cpp:3618.)\n"
     ]
    },
    {
     "data": {
      "image/png": "[encoded data removed]",
      "text/plain": [
       "<Figure size 640x480 with 1 Axes>"
      ]
     },
     "metadata": {},
     "output_type": "display_data"
    }
   ],
   "source": [
    "# global importance measure\n",
    "mean_abs_shap_values_rkhs = np.abs(shapley_values.T).mean(axis=0)  # (num_features,)\n",
    "\n",
    "# Call bar_plot for global explanation\n",
    "global_bar_plot(mean_abs_shap_values_rkhs.T, feature_names=columns)"
   ]
  },
  {
   "cell_type": "code",
   "execution_count": null,
   "metadata": {},
   "outputs": [],
   "source": []
  },
  {
   "cell_type": "code",
   "execution_count": null,
   "metadata": {},
   "outputs": [],
   "source": []
  },
  {
   "cell_type": "code",
   "execution_count": null,
   "metadata": {},
   "outputs": [],
   "source": []
  },
  {
   "cell_type": "code",
   "execution_count": null,
   "metadata": {},
   "outputs": [],
   "source": []
  },
  {
   "cell_type": "code",
   "execution_count": null,
   "metadata": {},
   "outputs": [],
   "source": []
  },
  {
   "cell_type": "code",
   "execution_count": null,
   "metadata": {},
   "outputs": [],
   "source": []
  },
  {
   "cell_type": "code",
   "execution_count": null,
   "metadata": {},
   "outputs": [],
   "source": []
  },
  {
   "cell_type": "code",
   "execution_count": null,
   "metadata": {},
   "outputs": [],
   "source": []
  }
 ],
 "metadata": {
  "kernelspec": {
   "display_name": "py311",
   "language": "python",
   "name": "python3"
  },
  "language_info": {
   "codemirror_mode": {
    "name": "ipython",
    "version": 3
   },
   "file_extension": ".py",
   "mimetype": "text/x-python",
   "name": "python",
   "nbconvert_exporter": "python",
   "pygments_lexer": "ipython3",
   "version": "3.11.12"
  }
 },
 "nbformat": 4,
 "nbformat_minor": 2
}
